{
 "cells": [
  {
   "cell_type": "markdown",
   "id": "69a0993f-d637-41f8-b339-9932159fb22e",
   "metadata": {},
   "source": [
    "# ETUDE DE L'EVOLUTION DU CHIFFRE D'AFFAIRES ET DES RELATIONS PRODUITS ET CLIENTS / LIBRAIRIE LAPAGE"
   ]
  },
  {
   "cell_type": "code",
   "execution_count": 1,
   "id": "442374b3-4c74-4a55-a34c-9694d004e40a",
   "metadata": {},
   "outputs": [],
   "source": [
    "import matplotlib.pyplot as plt\n",
    "import numpy as np\n",
    "import pandas as pd\n",
    "\n",
    "import warnings\n",
    "# Ignorer les avertissements de type FutureWarning\n",
    "warnings.simplefilter(action='ignore', category=FutureWarning)\n",
    "\n",
    "%matplotlib inline"
   ]
  },
  {
   "cell_type": "markdown",
   "id": "c16abff4-44f1-4939-87e7-8dc02665266e",
   "metadata": {},
   "source": [
    "## Chargement des fichiers et exploration des données"
   ]
  },
  {
   "cell_type": "code",
   "execution_count": 2,
   "id": "58c5c01c-aa15-4055-89c2-7b9fac7fa56c",
   "metadata": {},
   "outputs": [
    {
     "data": {
      "text/html": [
       "<div>\n",
       "<style scoped>\n",
       "    .dataframe tbody tr th:only-of-type {\n",
       "        vertical-align: middle;\n",
       "    }\n",
       "\n",
       "    .dataframe tbody tr th {\n",
       "        vertical-align: top;\n",
       "    }\n",
       "\n",
       "    .dataframe thead th {\n",
       "        text-align: right;\n",
       "    }\n",
       "</style>\n",
       "<table border=\"1\" class=\"dataframe\">\n",
       "  <thead>\n",
       "    <tr style=\"text-align: right;\">\n",
       "      <th></th>\n",
       "      <th>client_id</th>\n",
       "      <th>sex</th>\n",
       "      <th>birth</th>\n",
       "    </tr>\n",
       "  </thead>\n",
       "  <tbody>\n",
       "    <tr>\n",
       "      <th>0</th>\n",
       "      <td>c_4410</td>\n",
       "      <td>f</td>\n",
       "      <td>1967</td>\n",
       "    </tr>\n",
       "    <tr>\n",
       "      <th>1</th>\n",
       "      <td>c_7839</td>\n",
       "      <td>f</td>\n",
       "      <td>1975</td>\n",
       "    </tr>\n",
       "    <tr>\n",
       "      <th>2</th>\n",
       "      <td>c_1699</td>\n",
       "      <td>f</td>\n",
       "      <td>1984</td>\n",
       "    </tr>\n",
       "    <tr>\n",
       "      <th>3</th>\n",
       "      <td>c_5961</td>\n",
       "      <td>f</td>\n",
       "      <td>1962</td>\n",
       "    </tr>\n",
       "    <tr>\n",
       "      <th>4</th>\n",
       "      <td>c_5320</td>\n",
       "      <td>m</td>\n",
       "      <td>1943</td>\n",
       "    </tr>\n",
       "  </tbody>\n",
       "</table>\n",
       "</div>"
      ],
      "text/plain": [
       "  client_id sex  birth\n",
       "0    c_4410   f   1967\n",
       "1    c_7839   f   1975\n",
       "2    c_1699   f   1984\n",
       "3    c_5961   f   1962\n",
       "4    c_5320   m   1943"
      ]
     },
     "execution_count": 2,
     "metadata": {},
     "output_type": "execute_result"
    }
   ],
   "source": [
    "customers = pd.read_csv(\"customers.csv\")\n",
    "customers.head()"
   ]
  },
  {
   "cell_type": "code",
   "execution_count": 3,
   "id": "aaf92081-364a-4dac-87e0-e2edf6c9a918",
   "metadata": {},
   "outputs": [
    {
     "name": "stdout",
     "output_type": "stream",
     "text": [
      "<class 'pandas.core.frame.DataFrame'>\n",
      "RangeIndex: 8623 entries, 0 to 8622\n",
      "Data columns (total 3 columns):\n",
      " #   Column     Non-Null Count  Dtype \n",
      "---  ------     --------------  ----- \n",
      " 0   client_id  8623 non-null   object\n",
      " 1   sex        8623 non-null   object\n",
      " 2   birth      8623 non-null   int64 \n",
      "dtypes: int64(1), object(2)\n",
      "memory usage: 202.2+ KB\n"
     ]
    }
   ],
   "source": [
    "customers.info()"
   ]
  },
  {
   "cell_type": "code",
   "execution_count": 4,
   "id": "4af778ab-d8ad-4d45-907d-271df4e20904",
   "metadata": {},
   "outputs": [
    {
     "data": {
      "text/plain": [
       "0"
      ]
     },
     "execution_count": 4,
     "metadata": {},
     "output_type": "execute_result"
    }
   ],
   "source": [
    "customers.duplicated().sum()  # aucun doublon"
   ]
  },
  {
   "cell_type": "code",
   "execution_count": 5,
   "id": "bc127250-1c67-45d1-ba71-f743d2d040af",
   "metadata": {},
   "outputs": [
    {
     "data": {
      "text/html": [
       "<div>\n",
       "<style scoped>\n",
       "    .dataframe tbody tr th:only-of-type {\n",
       "        vertical-align: middle;\n",
       "    }\n",
       "\n",
       "    .dataframe tbody tr th {\n",
       "        vertical-align: top;\n",
       "    }\n",
       "\n",
       "    .dataframe thead th {\n",
       "        text-align: right;\n",
       "    }\n",
       "</style>\n",
       "<table border=\"1\" class=\"dataframe\">\n",
       "  <thead>\n",
       "    <tr style=\"text-align: right;\">\n",
       "      <th></th>\n",
       "      <th>id_prod</th>\n",
       "      <th>price</th>\n",
       "      <th>categ</th>\n",
       "    </tr>\n",
       "  </thead>\n",
       "  <tbody>\n",
       "    <tr>\n",
       "      <th>0</th>\n",
       "      <td>0_1421</td>\n",
       "      <td>19.99</td>\n",
       "      <td>0</td>\n",
       "    </tr>\n",
       "    <tr>\n",
       "      <th>1</th>\n",
       "      <td>0_1368</td>\n",
       "      <td>5.13</td>\n",
       "      <td>0</td>\n",
       "    </tr>\n",
       "    <tr>\n",
       "      <th>2</th>\n",
       "      <td>0_731</td>\n",
       "      <td>17.99</td>\n",
       "      <td>0</td>\n",
       "    </tr>\n",
       "    <tr>\n",
       "      <th>3</th>\n",
       "      <td>1_587</td>\n",
       "      <td>4.99</td>\n",
       "      <td>1</td>\n",
       "    </tr>\n",
       "    <tr>\n",
       "      <th>4</th>\n",
       "      <td>0_1507</td>\n",
       "      <td>3.99</td>\n",
       "      <td>0</td>\n",
       "    </tr>\n",
       "  </tbody>\n",
       "</table>\n",
       "</div>"
      ],
      "text/plain": [
       "  id_prod  price  categ\n",
       "0  0_1421  19.99      0\n",
       "1  0_1368   5.13      0\n",
       "2   0_731  17.99      0\n",
       "3   1_587   4.99      1\n",
       "4  0_1507   3.99      0"
      ]
     },
     "execution_count": 5,
     "metadata": {},
     "output_type": "execute_result"
    }
   ],
   "source": [
    "products = pd.read_csv(\"products.csv\")\n",
    "products.head()"
   ]
  },
  {
   "cell_type": "code",
   "execution_count": 6,
   "id": "a310756c-300b-43c2-8428-6d62b2cc9184",
   "metadata": {},
   "outputs": [
    {
     "name": "stdout",
     "output_type": "stream",
     "text": [
      "<class 'pandas.core.frame.DataFrame'>\n",
      "RangeIndex: 3287 entries, 0 to 3286\n",
      "Data columns (total 3 columns):\n",
      " #   Column   Non-Null Count  Dtype  \n",
      "---  ------   --------------  -----  \n",
      " 0   id_prod  3287 non-null   object \n",
      " 1   price    3287 non-null   float64\n",
      " 2   categ    3287 non-null   int64  \n",
      "dtypes: float64(1), int64(1), object(1)\n",
      "memory usage: 77.2+ KB\n"
     ]
    }
   ],
   "source": [
    "products.info()"
   ]
  },
  {
   "cell_type": "code",
   "execution_count": 7,
   "id": "d61dade3-2298-4147-9e59-e79f3c7c8e85",
   "metadata": {},
   "outputs": [
    {
     "data": {
      "text/plain": [
       "0"
      ]
     },
     "execution_count": 7,
     "metadata": {},
     "output_type": "execute_result"
    }
   ],
   "source": [
    "products.duplicated().sum()  # aucun doublon"
   ]
  },
  {
   "cell_type": "code",
   "execution_count": 8,
   "id": "8e8d0458-4a59-44cc-bf7f-4ee838e834c7",
   "metadata": {},
   "outputs": [
    {
     "data": {
      "text/html": [
       "<div>\n",
       "<style scoped>\n",
       "    .dataframe tbody tr th:only-of-type {\n",
       "        vertical-align: middle;\n",
       "    }\n",
       "\n",
       "    .dataframe tbody tr th {\n",
       "        vertical-align: top;\n",
       "    }\n",
       "\n",
       "    .dataframe thead th {\n",
       "        text-align: right;\n",
       "    }\n",
       "</style>\n",
       "<table border=\"1\" class=\"dataframe\">\n",
       "  <thead>\n",
       "    <tr style=\"text-align: right;\">\n",
       "      <th></th>\n",
       "      <th>price</th>\n",
       "      <th>categ</th>\n",
       "    </tr>\n",
       "  </thead>\n",
       "  <tbody>\n",
       "    <tr>\n",
       "      <th>count</th>\n",
       "      <td>3287.000000</td>\n",
       "      <td>3287.000000</td>\n",
       "    </tr>\n",
       "    <tr>\n",
       "      <th>mean</th>\n",
       "      <td>21.856641</td>\n",
       "      <td>0.370246</td>\n",
       "    </tr>\n",
       "    <tr>\n",
       "      <th>std</th>\n",
       "      <td>29.847908</td>\n",
       "      <td>0.615387</td>\n",
       "    </tr>\n",
       "    <tr>\n",
       "      <th>min</th>\n",
       "      <td>-1.000000</td>\n",
       "      <td>0.000000</td>\n",
       "    </tr>\n",
       "    <tr>\n",
       "      <th>25%</th>\n",
       "      <td>6.990000</td>\n",
       "      <td>0.000000</td>\n",
       "    </tr>\n",
       "    <tr>\n",
       "      <th>50%</th>\n",
       "      <td>13.060000</td>\n",
       "      <td>0.000000</td>\n",
       "    </tr>\n",
       "    <tr>\n",
       "      <th>75%</th>\n",
       "      <td>22.990000</td>\n",
       "      <td>1.000000</td>\n",
       "    </tr>\n",
       "    <tr>\n",
       "      <th>max</th>\n",
       "      <td>300.000000</td>\n",
       "      <td>2.000000</td>\n",
       "    </tr>\n",
       "  </tbody>\n",
       "</table>\n",
       "</div>"
      ],
      "text/plain": [
       "             price        categ\n",
       "count  3287.000000  3287.000000\n",
       "mean     21.856641     0.370246\n",
       "std      29.847908     0.615387\n",
       "min      -1.000000     0.000000\n",
       "25%       6.990000     0.000000\n",
       "50%      13.060000     0.000000\n",
       "75%      22.990000     1.000000\n",
       "max     300.000000     2.000000"
      ]
     },
     "execution_count": 8,
     "metadata": {},
     "output_type": "execute_result"
    }
   ],
   "source": [
    "products.describe()"
   ]
  },
  {
   "cell_type": "code",
   "execution_count": 9,
   "id": "c8c6fc1f-5b7b-4381-b48f-ee50c193f542",
   "metadata": {},
   "outputs": [
    {
     "data": {
      "text/html": [
       "<div>\n",
       "<style scoped>\n",
       "    .dataframe tbody tr th:only-of-type {\n",
       "        vertical-align: middle;\n",
       "    }\n",
       "\n",
       "    .dataframe tbody tr th {\n",
       "        vertical-align: top;\n",
       "    }\n",
       "\n",
       "    .dataframe thead th {\n",
       "        text-align: right;\n",
       "    }\n",
       "</style>\n",
       "<table border=\"1\" class=\"dataframe\">\n",
       "  <thead>\n",
       "    <tr style=\"text-align: right;\">\n",
       "      <th></th>\n",
       "      <th>id_prod</th>\n",
       "      <th>price</th>\n",
       "      <th>categ</th>\n",
       "    </tr>\n",
       "  </thead>\n",
       "  <tbody>\n",
       "    <tr>\n",
       "      <th>731</th>\n",
       "      <td>T_0</td>\n",
       "      <td>-1.0</td>\n",
       "      <td>0</td>\n",
       "    </tr>\n",
       "  </tbody>\n",
       "</table>\n",
       "</div>"
      ],
      "text/plain": [
       "    id_prod  price  categ\n",
       "731     T_0   -1.0      0"
      ]
     },
     "execution_count": 9,
     "metadata": {},
     "output_type": "execute_result"
    }
   ],
   "source": [
    "products[products.price == min(products.price)]"
   ]
  },
  {
   "cell_type": "markdown",
   "id": "a2dd7c5c-e727-4124-83fb-62368a8a3eef",
   "metadata": {
    "tags": []
   },
   "source": [
    "Un produit négatif ? S'agit-il d'un avoir ou autre ? A noter."
   ]
  },
  {
   "cell_type": "code",
   "execution_count": 10,
   "id": "038ac73d-4dae-4594-8611-7624be08fc58",
   "metadata": {},
   "outputs": [
    {
     "data": {
      "text/html": [
       "<div>\n",
       "<style scoped>\n",
       "    .dataframe tbody tr th:only-of-type {\n",
       "        vertical-align: middle;\n",
       "    }\n",
       "\n",
       "    .dataframe tbody tr th {\n",
       "        vertical-align: top;\n",
       "    }\n",
       "\n",
       "    .dataframe thead th {\n",
       "        text-align: right;\n",
       "    }\n",
       "</style>\n",
       "<table border=\"1\" class=\"dataframe\">\n",
       "  <thead>\n",
       "    <tr style=\"text-align: right;\">\n",
       "      <th></th>\n",
       "      <th>id_prod</th>\n",
       "      <th>date</th>\n",
       "      <th>session_id</th>\n",
       "      <th>client_id</th>\n",
       "    </tr>\n",
       "  </thead>\n",
       "  <tbody>\n",
       "    <tr>\n",
       "      <th>0</th>\n",
       "      <td>0_1518</td>\n",
       "      <td>2022-05-20 13:21:29.043970</td>\n",
       "      <td>s_211425</td>\n",
       "      <td>c_103</td>\n",
       "    </tr>\n",
       "    <tr>\n",
       "      <th>1</th>\n",
       "      <td>1_251</td>\n",
       "      <td>2022-02-02 07:55:19.149409</td>\n",
       "      <td>s_158752</td>\n",
       "      <td>c_8534</td>\n",
       "    </tr>\n",
       "    <tr>\n",
       "      <th>2</th>\n",
       "      <td>0_1277</td>\n",
       "      <td>2022-06-18 15:44:33.155329</td>\n",
       "      <td>s_225667</td>\n",
       "      <td>c_6714</td>\n",
       "    </tr>\n",
       "    <tr>\n",
       "      <th>3</th>\n",
       "      <td>2_209</td>\n",
       "      <td>2021-06-24 04:19:29.835891</td>\n",
       "      <td>s_52962</td>\n",
       "      <td>c_6941</td>\n",
       "    </tr>\n",
       "    <tr>\n",
       "      <th>4</th>\n",
       "      <td>0_1509</td>\n",
       "      <td>2023-01-11 08:22:08.194479</td>\n",
       "      <td>s_325227</td>\n",
       "      <td>c_4232</td>\n",
       "    </tr>\n",
       "  </tbody>\n",
       "</table>\n",
       "</div>"
      ],
      "text/plain": [
       "  id_prod                        date session_id client_id\n",
       "0  0_1518  2022-05-20 13:21:29.043970   s_211425     c_103\n",
       "1   1_251  2022-02-02 07:55:19.149409   s_158752    c_8534\n",
       "2  0_1277  2022-06-18 15:44:33.155329   s_225667    c_6714\n",
       "3   2_209  2021-06-24 04:19:29.835891    s_52962    c_6941\n",
       "4  0_1509  2023-01-11 08:22:08.194479   s_325227    c_4232"
      ]
     },
     "execution_count": 10,
     "metadata": {},
     "output_type": "execute_result"
    }
   ],
   "source": [
    "transactions = pd.read_csv(\"transactions.csv\")\n",
    "transactions.head()"
   ]
  },
  {
   "cell_type": "code",
   "execution_count": 11,
   "id": "3fa6c5d1-3143-4dd5-a396-3fa2a3714430",
   "metadata": {},
   "outputs": [
    {
     "name": "stdout",
     "output_type": "stream",
     "text": [
      "<class 'pandas.core.frame.DataFrame'>\n",
      "RangeIndex: 679532 entries, 0 to 679531\n",
      "Data columns (total 4 columns):\n",
      " #   Column      Non-Null Count   Dtype \n",
      "---  ------      --------------   ----- \n",
      " 0   id_prod     679532 non-null  object\n",
      " 1   date        679532 non-null  object\n",
      " 2   session_id  679532 non-null  object\n",
      " 3   client_id   679532 non-null  object\n",
      "dtypes: object(4)\n",
      "memory usage: 20.7+ MB\n"
     ]
    }
   ],
   "source": [
    "transactions.info()"
   ]
  },
  {
   "cell_type": "code",
   "execution_count": 12,
   "id": "3a3a561e-5c99-4c6e-ac73-f9eefb48f9a9",
   "metadata": {},
   "outputs": [
    {
     "data": {
      "text/plain": [
       "126"
      ]
     },
     "execution_count": 12,
     "metadata": {},
     "output_type": "execute_result"
    }
   ],
   "source": [
    "transactions.duplicated().sum()"
   ]
  },
  {
   "cell_type": "code",
   "execution_count": 13,
   "id": "40776f88-6977-4545-ad23-ce5a91634a1f",
   "metadata": {},
   "outputs": [
    {
     "name": "stdout",
     "output_type": "stream",
     "text": [
      "<class 'pandas.core.frame.DataFrame'>\n",
      "Index: 679406 entries, 0 to 679531\n",
      "Data columns (total 4 columns):\n",
      " #   Column      Non-Null Count   Dtype \n",
      "---  ------      --------------   ----- \n",
      " 0   id_prod     679406 non-null  object\n",
      " 1   date        679406 non-null  object\n",
      " 2   session_id  679406 non-null  object\n",
      " 3   client_id   679406 non-null  object\n",
      "dtypes: object(4)\n",
      "memory usage: 25.9+ MB\n"
     ]
    }
   ],
   "source": [
    "transactions.drop_duplicates(keep=\"first\", inplace=True)\n",
    "transactions.info()"
   ]
  },
  {
   "cell_type": "code",
   "execution_count": 14,
   "id": "3fee781d-221f-45b5-89c9-d1dedcff9807",
   "metadata": {},
   "outputs": [
    {
     "data": {
      "text/html": [
       "<div>\n",
       "<style scoped>\n",
       "    .dataframe tbody tr th:only-of-type {\n",
       "        vertical-align: middle;\n",
       "    }\n",
       "\n",
       "    .dataframe tbody tr th {\n",
       "        vertical-align: top;\n",
       "    }\n",
       "\n",
       "    .dataframe thead th {\n",
       "        text-align: right;\n",
       "    }\n",
       "</style>\n",
       "<table border=\"1\" class=\"dataframe\">\n",
       "  <thead>\n",
       "    <tr style=\"text-align: right;\">\n",
       "      <th></th>\n",
       "      <th>id_prod</th>\n",
       "      <th>date</th>\n",
       "      <th>session_id</th>\n",
       "      <th>client_id</th>\n",
       "    </tr>\n",
       "  </thead>\n",
       "  <tbody>\n",
       "    <tr>\n",
       "      <th>246980</th>\n",
       "      <td>T_0</td>\n",
       "      <td>test_2021-03-01 02:30:02.237450</td>\n",
       "      <td>s_0</td>\n",
       "      <td>ct_0</td>\n",
       "    </tr>\n",
       "    <tr>\n",
       "      <th>670680</th>\n",
       "      <td>T_0</td>\n",
       "      <td>test_2021-03-01 02:30:02.237449</td>\n",
       "      <td>s_0</td>\n",
       "      <td>ct_1</td>\n",
       "    </tr>\n",
       "    <tr>\n",
       "      <th>19312</th>\n",
       "      <td>T_0</td>\n",
       "      <td>test_2021-03-01 02:30:02.237449</td>\n",
       "      <td>s_0</td>\n",
       "      <td>ct_0</td>\n",
       "    </tr>\n",
       "    <tr>\n",
       "      <th>392443</th>\n",
       "      <td>T_0</td>\n",
       "      <td>test_2021-03-01 02:30:02.237448</td>\n",
       "      <td>s_0</td>\n",
       "      <td>ct_0</td>\n",
       "    </tr>\n",
       "    <tr>\n",
       "      <th>312697</th>\n",
       "      <td>T_0</td>\n",
       "      <td>test_2021-03-01 02:30:02.237447</td>\n",
       "      <td>s_0</td>\n",
       "      <td>ct_1</td>\n",
       "    </tr>\n",
       "    <tr>\n",
       "      <th>...</th>\n",
       "      <td>...</td>\n",
       "      <td>...</td>\n",
       "      <td>...</td>\n",
       "      <td>...</td>\n",
       "    </tr>\n",
       "    <tr>\n",
       "      <th>439073</th>\n",
       "      <td>0_1358</td>\n",
       "      <td>2021-03-01 00:05:18.801198</td>\n",
       "      <td>s_5</td>\n",
       "      <td>c_2033</td>\n",
       "    </tr>\n",
       "    <tr>\n",
       "      <th>488300</th>\n",
       "      <td>0_1458</td>\n",
       "      <td>2021-03-01 00:04:54.559692</td>\n",
       "      <td>s_4</td>\n",
       "      <td>c_7912</td>\n",
       "    </tr>\n",
       "    <tr>\n",
       "      <th>462702</th>\n",
       "      <td>0_1352</td>\n",
       "      <td>2021-03-01 00:02:38.311413</td>\n",
       "      <td>s_3</td>\n",
       "      <td>c_580</td>\n",
       "    </tr>\n",
       "    <tr>\n",
       "      <th>428477</th>\n",
       "      <td>0_1390</td>\n",
       "      <td>2021-03-01 00:02:26.047414</td>\n",
       "      <td>s_2</td>\n",
       "      <td>c_664</td>\n",
       "    </tr>\n",
       "    <tr>\n",
       "      <th>480642</th>\n",
       "      <td>0_1259</td>\n",
       "      <td>2021-03-01 00:01:07.843138</td>\n",
       "      <td>s_1</td>\n",
       "      <td>c_329</td>\n",
       "    </tr>\n",
       "  </tbody>\n",
       "</table>\n",
       "<p>679406 rows × 4 columns</p>\n",
       "</div>"
      ],
      "text/plain": [
       "       id_prod                             date session_id client_id\n",
       "246980     T_0  test_2021-03-01 02:30:02.237450        s_0      ct_0\n",
       "670680     T_0  test_2021-03-01 02:30:02.237449        s_0      ct_1\n",
       "19312      T_0  test_2021-03-01 02:30:02.237449        s_0      ct_0\n",
       "392443     T_0  test_2021-03-01 02:30:02.237448        s_0      ct_0\n",
       "312697     T_0  test_2021-03-01 02:30:02.237447        s_0      ct_1\n",
       "...        ...                              ...        ...       ...\n",
       "439073  0_1358       2021-03-01 00:05:18.801198        s_5    c_2033\n",
       "488300  0_1458       2021-03-01 00:04:54.559692        s_4    c_7912\n",
       "462702  0_1352       2021-03-01 00:02:38.311413        s_3     c_580\n",
       "428477  0_1390       2021-03-01 00:02:26.047414        s_2     c_664\n",
       "480642  0_1259       2021-03-01 00:01:07.843138        s_1     c_329\n",
       "\n",
       "[679406 rows x 4 columns]"
      ]
     },
     "execution_count": 14,
     "metadata": {},
     "output_type": "execute_result"
    }
   ],
   "source": [
    "transactions.sort_values(by=\"date\", ascending=False)"
   ]
  },
  {
   "cell_type": "code",
   "execution_count": 15,
   "id": "6384690d-7bdf-4e7b-a3da-78f74468f81a",
   "metadata": {},
   "outputs": [
    {
     "data": {
      "text/html": [
       "<div>\n",
       "<style scoped>\n",
       "    .dataframe tbody tr th:only-of-type {\n",
       "        vertical-align: middle;\n",
       "    }\n",
       "\n",
       "    .dataframe tbody tr th {\n",
       "        vertical-align: top;\n",
       "    }\n",
       "\n",
       "    .dataframe thead th {\n",
       "        text-align: right;\n",
       "    }\n",
       "</style>\n",
       "<table border=\"1\" class=\"dataframe\">\n",
       "  <thead>\n",
       "    <tr style=\"text-align: right;\">\n",
       "      <th></th>\n",
       "      <th>id_prod</th>\n",
       "      <th>date</th>\n",
       "      <th>session_id</th>\n",
       "      <th>client_id</th>\n",
       "    </tr>\n",
       "  </thead>\n",
       "  <tbody>\n",
       "    <tr>\n",
       "      <th>3019</th>\n",
       "      <td>T_0</td>\n",
       "      <td>test_2021-03-01 02:30:02.237419</td>\n",
       "      <td>s_0</td>\n",
       "      <td>ct_0</td>\n",
       "    </tr>\n",
       "    <tr>\n",
       "      <th>5138</th>\n",
       "      <td>T_0</td>\n",
       "      <td>test_2021-03-01 02:30:02.237425</td>\n",
       "      <td>s_0</td>\n",
       "      <td>ct_0</td>\n",
       "    </tr>\n",
       "    <tr>\n",
       "      <th>9668</th>\n",
       "      <td>T_0</td>\n",
       "      <td>test_2021-03-01 02:30:02.237437</td>\n",
       "      <td>s_0</td>\n",
       "      <td>ct_1</td>\n",
       "    </tr>\n",
       "    <tr>\n",
       "      <th>10728</th>\n",
       "      <td>T_0</td>\n",
       "      <td>test_2021-03-01 02:30:02.237436</td>\n",
       "      <td>s_0</td>\n",
       "      <td>ct_0</td>\n",
       "    </tr>\n",
       "    <tr>\n",
       "      <th>15292</th>\n",
       "      <td>T_0</td>\n",
       "      <td>test_2021-03-01 02:30:02.237430</td>\n",
       "      <td>s_0</td>\n",
       "      <td>ct_0</td>\n",
       "    </tr>\n",
       "    <tr>\n",
       "      <th>...</th>\n",
       "      <td>...</td>\n",
       "      <td>...</td>\n",
       "      <td>...</td>\n",
       "      <td>...</td>\n",
       "    </tr>\n",
       "    <tr>\n",
       "      <th>577324</th>\n",
       "      <td>T_0</td>\n",
       "      <td>test_2021-03-01 02:30:02.237424</td>\n",
       "      <td>s_0</td>\n",
       "      <td>ct_0</td>\n",
       "    </tr>\n",
       "    <tr>\n",
       "      <th>593065</th>\n",
       "      <td>T_0</td>\n",
       "      <td>test_2021-03-01 02:30:02.237422</td>\n",
       "      <td>s_0</td>\n",
       "      <td>ct_1</td>\n",
       "    </tr>\n",
       "    <tr>\n",
       "      <th>607892</th>\n",
       "      <td>T_0</td>\n",
       "      <td>test_2021-03-01 02:30:02.237412</td>\n",
       "      <td>s_0</td>\n",
       "      <td>ct_0</td>\n",
       "    </tr>\n",
       "    <tr>\n",
       "      <th>626049</th>\n",
       "      <td>T_0</td>\n",
       "      <td>test_2021-03-01 02:30:02.237422</td>\n",
       "      <td>s_0</td>\n",
       "      <td>ct_0</td>\n",
       "    </tr>\n",
       "    <tr>\n",
       "      <th>670680</th>\n",
       "      <td>T_0</td>\n",
       "      <td>test_2021-03-01 02:30:02.237449</td>\n",
       "      <td>s_0</td>\n",
       "      <td>ct_1</td>\n",
       "    </tr>\n",
       "  </tbody>\n",
       "</table>\n",
       "<p>74 rows × 4 columns</p>\n",
       "</div>"
      ],
      "text/plain": [
       "       id_prod                             date session_id client_id\n",
       "3019       T_0  test_2021-03-01 02:30:02.237419        s_0      ct_0\n",
       "5138       T_0  test_2021-03-01 02:30:02.237425        s_0      ct_0\n",
       "9668       T_0  test_2021-03-01 02:30:02.237437        s_0      ct_1\n",
       "10728      T_0  test_2021-03-01 02:30:02.237436        s_0      ct_0\n",
       "15292      T_0  test_2021-03-01 02:30:02.237430        s_0      ct_0\n",
       "...        ...                              ...        ...       ...\n",
       "577324     T_0  test_2021-03-01 02:30:02.237424        s_0      ct_0\n",
       "593065     T_0  test_2021-03-01 02:30:02.237422        s_0      ct_1\n",
       "607892     T_0  test_2021-03-01 02:30:02.237412        s_0      ct_0\n",
       "626049     T_0  test_2021-03-01 02:30:02.237422        s_0      ct_0\n",
       "670680     T_0  test_2021-03-01 02:30:02.237449        s_0      ct_1\n",
       "\n",
       "[74 rows x 4 columns]"
      ]
     },
     "execution_count": 15,
     "metadata": {},
     "output_type": "execute_result"
    }
   ],
   "source": [
    "transactions[transactions[\"id_prod\"] == \"T_0\"]"
   ]
  },
  {
   "cell_type": "markdown",
   "id": "e0387d6d-c289-439e-a9f9-272d60b6256f",
   "metadata": {},
   "source": [
    "Il s'agit de tests, il faut éliminer ces valeurs."
   ]
  },
  {
   "cell_type": "code",
   "execution_count": 16,
   "id": "052bf8d8-0e4e-49a0-bcb0-1455d0690864",
   "metadata": {},
   "outputs": [
    {
     "name": "stdout",
     "output_type": "stream",
     "text": [
      "<class 'pandas.core.frame.DataFrame'>\n",
      "Index: 679332 entries, 0 to 679531\n",
      "Data columns (total 4 columns):\n",
      " #   Column      Non-Null Count   Dtype \n",
      "---  ------      --------------   ----- \n",
      " 0   id_prod     679332 non-null  object\n",
      " 1   date        679332 non-null  object\n",
      " 2   session_id  679332 non-null  object\n",
      " 3   client_id   679332 non-null  object\n",
      "dtypes: object(4)\n",
      "memory usage: 25.9+ MB\n"
     ]
    }
   ],
   "source": [
    "transactions = transactions[transactions[\"id_prod\"] != \"T_0\"]\n",
    "transactions.info()"
   ]
  },
  {
   "cell_type": "code",
   "execution_count": 17,
   "id": "4cd99b8d-53b5-41af-b20a-e500efa9e416",
   "metadata": {},
   "outputs": [],
   "source": [
    "transactions[\"date\"] = pd.to_datetime(transactions[\"date\"])"
   ]
  },
  {
   "cell_type": "code",
   "execution_count": 18,
   "id": "e66df096-b11c-4d22-8677-5e8fa80a98b8",
   "metadata": {},
   "outputs": [
    {
     "name": "stdout",
     "output_type": "stream",
     "text": [
      "<class 'pandas.core.frame.DataFrame'>\n",
      "Index: 679332 entries, 0 to 679531\n",
      "Data columns (total 4 columns):\n",
      " #   Column      Non-Null Count   Dtype         \n",
      "---  ------      --------------   -----         \n",
      " 0   id_prod     679332 non-null  object        \n",
      " 1   date        679332 non-null  datetime64[ns]\n",
      " 2   session_id  679332 non-null  object        \n",
      " 3   client_id   679332 non-null  object        \n",
      "dtypes: datetime64[ns](1), object(3)\n",
      "memory usage: 25.9+ MB\n"
     ]
    }
   ],
   "source": [
    "transactions.info()"
   ]
  },
  {
   "cell_type": "markdown",
   "id": "dbe8e1a8-d538-4289-8116-058e14507c19",
   "metadata": {},
   "source": [
    "*Correction du dataframe product*"
   ]
  },
  {
   "cell_type": "code",
   "execution_count": 19,
   "id": "ddeebe1e-3bc6-4361-96ee-f39ddfb2d079",
   "metadata": {
    "tags": []
   },
   "outputs": [],
   "source": [
    "# Filtrer les lignes où id_prod n'est pas égal à \"T_0\"\n",
    "products = products[products['id_prod'] != \"T_0\"]"
   ]
  },
  {
   "cell_type": "markdown",
   "id": "d20ce1ff-d815-4c61-86ab-13d0c75ec0fd",
   "metadata": {},
   "source": [
    "## Détermination du chiffre d'affaires"
   ]
  },
  {
   "cell_type": "markdown",
   "id": "3ca9ff60-7f8d-4ae4-b8ee-0e47aa082a45",
   "metadata": {},
   "source": [
    "**Fusion des données transactions et products**"
   ]
  },
  {
   "cell_type": "code",
   "execution_count": 20,
   "id": "68cdb65f-617f-43de-a17a-8d773e184598",
   "metadata": {
    "tags": []
   },
   "outputs": [
    {
     "data": {
      "text/html": [
       "<div>\n",
       "<style scoped>\n",
       "    .dataframe tbody tr th:only-of-type {\n",
       "        vertical-align: middle;\n",
       "    }\n",
       "\n",
       "    .dataframe tbody tr th {\n",
       "        vertical-align: top;\n",
       "    }\n",
       "\n",
       "    .dataframe thead th {\n",
       "        text-align: right;\n",
       "    }\n",
       "</style>\n",
       "<table border=\"1\" class=\"dataframe\">\n",
       "  <thead>\n",
       "    <tr style=\"text-align: right;\">\n",
       "      <th></th>\n",
       "      <th>id_prod</th>\n",
       "      <th>date</th>\n",
       "      <th>session_id</th>\n",
       "      <th>client_id</th>\n",
       "      <th>price</th>\n",
       "      <th>categ</th>\n",
       "      <th>_merge</th>\n",
       "    </tr>\n",
       "  </thead>\n",
       "  <tbody>\n",
       "    <tr>\n",
       "      <th>0</th>\n",
       "      <td>0_1518</td>\n",
       "      <td>2022-05-20 13:21:29.043970</td>\n",
       "      <td>s_211425</td>\n",
       "      <td>c_103</td>\n",
       "      <td>4.18</td>\n",
       "      <td>0.0</td>\n",
       "      <td>both</td>\n",
       "    </tr>\n",
       "    <tr>\n",
       "      <th>1</th>\n",
       "      <td>1_251</td>\n",
       "      <td>2022-02-02 07:55:19.149409</td>\n",
       "      <td>s_158752</td>\n",
       "      <td>c_8534</td>\n",
       "      <td>15.99</td>\n",
       "      <td>1.0</td>\n",
       "      <td>both</td>\n",
       "    </tr>\n",
       "    <tr>\n",
       "      <th>2</th>\n",
       "      <td>0_1277</td>\n",
       "      <td>2022-06-18 15:44:33.155329</td>\n",
       "      <td>s_225667</td>\n",
       "      <td>c_6714</td>\n",
       "      <td>7.99</td>\n",
       "      <td>0.0</td>\n",
       "      <td>both</td>\n",
       "    </tr>\n",
       "    <tr>\n",
       "      <th>3</th>\n",
       "      <td>2_209</td>\n",
       "      <td>2021-06-24 04:19:29.835891</td>\n",
       "      <td>s_52962</td>\n",
       "      <td>c_6941</td>\n",
       "      <td>69.99</td>\n",
       "      <td>2.0</td>\n",
       "      <td>both</td>\n",
       "    </tr>\n",
       "    <tr>\n",
       "      <th>4</th>\n",
       "      <td>0_1509</td>\n",
       "      <td>2023-01-11 08:22:08.194479</td>\n",
       "      <td>s_325227</td>\n",
       "      <td>c_4232</td>\n",
       "      <td>4.99</td>\n",
       "      <td>0.0</td>\n",
       "      <td>both</td>\n",
       "    </tr>\n",
       "  </tbody>\n",
       "</table>\n",
       "</div>"
      ],
      "text/plain": [
       "  id_prod                       date session_id client_id  price  categ _merge\n",
       "0  0_1518 2022-05-20 13:21:29.043970   s_211425     c_103   4.18    0.0   both\n",
       "1   1_251 2022-02-02 07:55:19.149409   s_158752    c_8534  15.99    1.0   both\n",
       "2  0_1277 2022-06-18 15:44:33.155329   s_225667    c_6714   7.99    0.0   both\n",
       "3   2_209 2021-06-24 04:19:29.835891    s_52962    c_6941  69.99    2.0   both\n",
       "4  0_1509 2023-01-11 08:22:08.194479   s_325227    c_4232   4.99    0.0   both"
      ]
     },
     "execution_count": 20,
     "metadata": {},
     "output_type": "execute_result"
    }
   ],
   "source": [
    "trans_prod = pd.merge(transactions, products, on=\"id_prod\", how=\"left\", indicator=True)\n",
    "trans_prod.head()"
   ]
  },
  {
   "cell_type": "code",
   "execution_count": 21,
   "id": "7fbf9b37-6556-412f-b0ea-86ca2e51cbb1",
   "metadata": {
    "tags": []
   },
   "outputs": [
    {
     "data": {
      "text/plain": [
       "_merge\n",
       "both          679111\n",
       "left_only        221\n",
       "right_only         0\n",
       "Name: count, dtype: int64"
      ]
     },
     "execution_count": 21,
     "metadata": {},
     "output_type": "execute_result"
    }
   ],
   "source": [
    "trans_prod._merge.value_counts()"
   ]
  },
  {
   "cell_type": "code",
   "execution_count": 22,
   "id": "730be554-1716-4c35-9e46-9cd138ab6107",
   "metadata": {},
   "outputs": [
    {
     "name": "stdout",
     "output_type": "stream",
     "text": [
      "<class 'pandas.core.frame.DataFrame'>\n",
      "RangeIndex: 679332 entries, 0 to 679331\n",
      "Data columns (total 7 columns):\n",
      " #   Column      Non-Null Count   Dtype         \n",
      "---  ------      --------------   -----         \n",
      " 0   id_prod     679332 non-null  object        \n",
      " 1   date        679332 non-null  datetime64[ns]\n",
      " 2   session_id  679332 non-null  object        \n",
      " 3   client_id   679332 non-null  object        \n",
      " 4   price       679111 non-null  float64       \n",
      " 5   categ       679111 non-null  float64       \n",
      " 6   _merge      679332 non-null  category      \n",
      "dtypes: category(1), datetime64[ns](1), float64(2), object(3)\n",
      "memory usage: 31.7+ MB\n"
     ]
    }
   ],
   "source": [
    "trans_prod.info()"
   ]
  },
  {
   "cell_type": "code",
   "execution_count": 23,
   "id": "d615af43-52e2-4408-8dc5-05665546b832",
   "metadata": {
    "tags": []
   },
   "outputs": [
    {
     "data": {
      "text/plain": [
       "id_prod         0\n",
       "date            0\n",
       "session_id      0\n",
       "client_id       0\n",
       "price         221\n",
       "categ         221\n",
       "_merge          0\n",
       "dtype: int64"
      ]
     },
     "execution_count": 23,
     "metadata": {},
     "output_type": "execute_result"
    }
   ],
   "source": [
    "trans_prod.isna().sum()"
   ]
  },
  {
   "cell_type": "markdown",
   "id": "7870a761-8bb5-4776-8747-8198a22094ac",
   "metadata": {},
   "source": [
    "*Il manque 221 prix et 221 catégories.*"
   ]
  },
  {
   "cell_type": "code",
   "execution_count": 24,
   "id": "4bc295ab-59c3-465a-ad1a-55be9209101e",
   "metadata": {
    "tags": []
   },
   "outputs": [
    {
     "data": {
      "text/html": [
       "<div>\n",
       "<style scoped>\n",
       "    .dataframe tbody tr th:only-of-type {\n",
       "        vertical-align: middle;\n",
       "    }\n",
       "\n",
       "    .dataframe tbody tr th {\n",
       "        vertical-align: top;\n",
       "    }\n",
       "\n",
       "    .dataframe thead th {\n",
       "        text-align: right;\n",
       "    }\n",
       "</style>\n",
       "<table border=\"1\" class=\"dataframe\">\n",
       "  <thead>\n",
       "    <tr style=\"text-align: right;\">\n",
       "      <th></th>\n",
       "      <th>date</th>\n",
       "      <th>session_id</th>\n",
       "      <th>client_id</th>\n",
       "      <th>price</th>\n",
       "      <th>categ</th>\n",
       "      <th>_merge</th>\n",
       "    </tr>\n",
       "    <tr>\n",
       "      <th>id_prod</th>\n",
       "      <th></th>\n",
       "      <th></th>\n",
       "      <th></th>\n",
       "      <th></th>\n",
       "      <th></th>\n",
       "      <th></th>\n",
       "    </tr>\n",
       "  </thead>\n",
       "  <tbody>\n",
       "    <tr>\n",
       "      <th>0_2245</th>\n",
       "      <td>221</td>\n",
       "      <td>221</td>\n",
       "      <td>221</td>\n",
       "      <td>0</td>\n",
       "      <td>0</td>\n",
       "      <td>221</td>\n",
       "    </tr>\n",
       "  </tbody>\n",
       "</table>\n",
       "</div>"
      ],
      "text/plain": [
       "         date  session_id  client_id  price  categ  _merge\n",
       "id_prod                                                   \n",
       "0_2245    221         221        221      0      0     221"
      ]
     },
     "execution_count": 24,
     "metadata": {},
     "output_type": "execute_result"
    }
   ],
   "source": [
    "trans_prod[(trans_prod[\"categ\"].isna() | trans_prod[\"price\"].isna())].groupby(\n",
    "    \"id_prod\"\n",
    ").count()"
   ]
  },
  {
   "cell_type": "markdown",
   "id": "5b1a2291-294e-4c0b-b157-cf75699bb270",
   "metadata": {},
   "source": [
    "Un seul produit est concerné, probablement de catégorie 0. Prix à affecter selon la médiane de la catégorie."
   ]
  },
  {
   "cell_type": "code",
   "execution_count": 25,
   "id": "5d26aa8b-9225-4162-b9d2-e6ebdd7eb010",
   "metadata": {
    "tags": []
   },
   "outputs": [
    {
     "data": {
      "text/plain": [
       "9.99"
      ]
     },
     "execution_count": 25,
     "metadata": {},
     "output_type": "execute_result"
    }
   ],
   "source": [
    "med_price_0 = trans_prod.price[trans_prod.categ == 0].median()\n",
    "med_price_0"
   ]
  },
  {
   "cell_type": "code",
   "execution_count": 26,
   "id": "abaf5a34-13b5-4a89-b853-058134a511ad",
   "metadata": {
    "tags": []
   },
   "outputs": [
    {
     "data": {
      "text/html": [
       "<div>\n",
       "<style scoped>\n",
       "    .dataframe tbody tr th:only-of-type {\n",
       "        vertical-align: middle;\n",
       "    }\n",
       "\n",
       "    .dataframe tbody tr th {\n",
       "        vertical-align: top;\n",
       "    }\n",
       "\n",
       "    .dataframe thead th {\n",
       "        text-align: right;\n",
       "    }\n",
       "</style>\n",
       "<table border=\"1\" class=\"dataframe\">\n",
       "  <thead>\n",
       "    <tr style=\"text-align: right;\">\n",
       "      <th></th>\n",
       "      <th>price</th>\n",
       "    </tr>\n",
       "    <tr>\n",
       "      <th>categ</th>\n",
       "      <th></th>\n",
       "    </tr>\n",
       "  </thead>\n",
       "  <tbody>\n",
       "    <tr>\n",
       "      <th>0.0</th>\n",
       "      <td>9.99</td>\n",
       "    </tr>\n",
       "  </tbody>\n",
       "</table>\n",
       "</div>"
      ],
      "text/plain": [
       "       price\n",
       "categ       \n",
       "0.0     9.99"
      ]
     },
     "execution_count": 26,
     "metadata": {},
     "output_type": "execute_result"
    }
   ],
   "source": [
    "trans_prod.loc[trans_prod['id_prod'] == \"0_2245\", 'price'] = med_price_0\n",
    "trans_prod.loc[trans_prod['id_prod'] == \"0_2245\", 'categ'] = 0\n",
    "trans_prod[trans_prod.id_prod == \"0_2245\"].pivot_table(\"price\", \"categ\")"
   ]
  },
  {
   "cell_type": "markdown",
   "id": "f062bcc0-b9eb-458c-8b7c-1ba5cbd15e59",
   "metadata": {},
   "source": [
    "**Chiffre d'affaires = somme des prix des produits vendus lors des transactions**"
   ]
  },
  {
   "cell_type": "code",
   "execution_count": 27,
   "id": "8a29cf0e-3533-42cb-9f75-0366df32c356",
   "metadata": {
    "tags": []
   },
   "outputs": [
    {
     "data": {
      "text/plain": [
       "11855936.47"
      ]
     },
     "execution_count": 27,
     "metadata": {},
     "output_type": "execute_result"
    }
   ],
   "source": [
    "CA_total = trans_prod.price.sum()\n",
    "round(CA_total, 2)"
   ]
  },
  {
   "cell_type": "markdown",
   "id": "10b95886-2617-497f-82cc-333c9ad92a50",
   "metadata": {},
   "source": [
    "**CA par produit**"
   ]
  },
  {
   "cell_type": "code",
   "execution_count": 28,
   "id": "47832a0b-8986-4206-a66e-ee44c349bbbf",
   "metadata": {},
   "outputs": [
    {
     "data": {
      "text/html": [
       "<div>\n",
       "<style scoped>\n",
       "    .dataframe tbody tr th:only-of-type {\n",
       "        vertical-align: middle;\n",
       "    }\n",
       "\n",
       "    .dataframe tbody tr th {\n",
       "        vertical-align: top;\n",
       "    }\n",
       "\n",
       "    .dataframe thead th {\n",
       "        text-align: right;\n",
       "    }\n",
       "</style>\n",
       "<table border=\"1\" class=\"dataframe\">\n",
       "  <thead>\n",
       "    <tr style=\"text-align: right;\">\n",
       "      <th></th>\n",
       "      <th>CA</th>\n",
       "    </tr>\n",
       "    <tr>\n",
       "      <th>id_prod</th>\n",
       "      <th></th>\n",
       "    </tr>\n",
       "  </thead>\n",
       "  <tbody>\n",
       "    <tr>\n",
       "      <th>0_0</th>\n",
       "      <td>4657.50</td>\n",
       "    </tr>\n",
       "    <tr>\n",
       "      <th>0_1</th>\n",
       "      <td>5352.13</td>\n",
       "    </tr>\n",
       "    <tr>\n",
       "      <th>0_10</th>\n",
       "      <td>394.90</td>\n",
       "    </tr>\n",
       "    <tr>\n",
       "      <th>0_100</th>\n",
       "      <td>61.80</td>\n",
       "    </tr>\n",
       "    <tr>\n",
       "      <th>0_1000</th>\n",
       "      <td>2954.88</td>\n",
       "    </tr>\n",
       "  </tbody>\n",
       "</table>\n",
       "</div>"
      ],
      "text/plain": [
       "              CA\n",
       "id_prod         \n",
       "0_0      4657.50\n",
       "0_1      5352.13\n",
       "0_10      394.90\n",
       "0_100      61.80\n",
       "0_1000   2954.88"
      ]
     },
     "execution_count": 28,
     "metadata": {},
     "output_type": "execute_result"
    }
   ],
   "source": [
    "CA_prod = trans_prod[[\"id_prod\", \"price\"]].groupby(by=\"id_prod\").sum(\"price\")\n",
    "CA_prod.rename(columns={\"price\": \"CA\"}, inplace=True)\n",
    "CA_prod.head()"
   ]
  },
  {
   "cell_type": "code",
   "execution_count": 29,
   "id": "0bf2b408-5113-432a-a1dd-30a8384a2b9c",
   "metadata": {},
   "outputs": [
    {
     "name": "stdout",
     "output_type": "stream",
     "text": [
      "<class 'pandas.core.frame.DataFrame'>\n",
      "Index: 3266 entries, 0_0 to 2_99\n",
      "Data columns (total 1 columns):\n",
      " #   Column  Non-Null Count  Dtype  \n",
      "---  ------  --------------  -----  \n",
      " 0   CA      3266 non-null   float64\n",
      "dtypes: float64(1)\n",
      "memory usage: 51.0+ KB\n"
     ]
    }
   ],
   "source": [
    "CA_prod.info()"
   ]
  },
  {
   "cell_type": "code",
   "execution_count": 30,
   "id": "433a3a6e-5cc0-4089-85be-9fbc698e664f",
   "metadata": {},
   "outputs": [
    {
     "data": {
      "text/plain": [
       "<Axes: ylabel='Frequency'>"
      ]
     },
     "execution_count": 30,
     "metadata": {},
     "output_type": "execute_result"
    },
    {
     "data": {
      "image/png": "[encoded data removed]",
      "text/plain": [
       "<Figure size 640x480 with 1 Axes>"
      ]
     },
     "metadata": {},
     "output_type": "display_data"
    }
   ],
   "source": [
    "CA_prod[\"CA\"].plot(kind=\"hist\")"
   ]
  },
  {
   "cell_type": "markdown",
   "id": "ecee2812-6b5c-4df5-b2aa-1c4ea7a6b029",
   "metadata": {},
   "source": [
    "**Relevé de quelques données significatives concernant le CA des produits.**"
   ]
  },
  {
   "cell_type": "code",
   "execution_count": 31,
   "id": "a6ac30e4-256e-4603-82d5-6c282a2bf847",
   "metadata": {},
   "outputs": [
    {
     "data": {
      "text/html": [
       "<div>\n",
       "<style scoped>\n",
       "    .dataframe tbody tr th:only-of-type {\n",
       "        vertical-align: middle;\n",
       "    }\n",
       "\n",
       "    .dataframe tbody tr th {\n",
       "        vertical-align: top;\n",
       "    }\n",
       "\n",
       "    .dataframe thead th {\n",
       "        text-align: right;\n",
       "    }\n",
       "</style>\n",
       "<table border=\"1\" class=\"dataframe\">\n",
       "  <thead>\n",
       "    <tr style=\"text-align: right;\">\n",
       "      <th></th>\n",
       "      <th>CA</th>\n",
       "    </tr>\n",
       "    <tr>\n",
       "      <th>id_prod</th>\n",
       "      <th></th>\n",
       "    </tr>\n",
       "  </thead>\n",
       "  <tbody>\n",
       "    <tr>\n",
       "      <th>2_159</th>\n",
       "      <td>94893.50</td>\n",
       "    </tr>\n",
       "    <tr>\n",
       "      <th>2_135</th>\n",
       "      <td>69334.95</td>\n",
       "    </tr>\n",
       "    <tr>\n",
       "      <th>2_112</th>\n",
       "      <td>65407.76</td>\n",
       "    </tr>\n",
       "    <tr>\n",
       "      <th>2_102</th>\n",
       "      <td>60736.78</td>\n",
       "    </tr>\n",
       "    <tr>\n",
       "      <th>2_209</th>\n",
       "      <td>56971.86</td>\n",
       "    </tr>\n",
       "    <tr>\n",
       "      <th>1_395</th>\n",
       "      <td>54356.25</td>\n",
       "    </tr>\n",
       "    <tr>\n",
       "      <th>1_369</th>\n",
       "      <td>54025.48</td>\n",
       "    </tr>\n",
       "    <tr>\n",
       "      <th>2_110</th>\n",
       "      <td>53846.25</td>\n",
       "    </tr>\n",
       "    <tr>\n",
       "      <th>2_39</th>\n",
       "      <td>53060.85</td>\n",
       "    </tr>\n",
       "    <tr>\n",
       "      <th>2_166</th>\n",
       "      <td>52449.12</td>\n",
       "    </tr>\n",
       "  </tbody>\n",
       "</table>\n",
       "</div>"
      ],
      "text/plain": [
       "               CA\n",
       "id_prod          \n",
       "2_159    94893.50\n",
       "2_135    69334.95\n",
       "2_112    65407.76\n",
       "2_102    60736.78\n",
       "2_209    56971.86\n",
       "1_395    54356.25\n",
       "1_369    54025.48\n",
       "2_110    53846.25\n",
       "2_39     53060.85\n",
       "2_166    52449.12"
      ]
     },
     "execution_count": 31,
     "metadata": {},
     "output_type": "execute_result"
    }
   ],
   "source": [
    "CA_prod.sort_values(by=[\"CA\"], ascending=False).iloc[\n",
    "    :10\n",
    "]  # les 10 premiers produits classés par CA"
   ]
  },
  {
   "cell_type": "code",
   "execution_count": 32,
   "id": "e0fdb0eb-644d-443f-9f92-6a1addb3a2ec",
   "metadata": {},
   "outputs": [
    {
     "data": {
      "text/html": [
       "<div>\n",
       "<style scoped>\n",
       "    .dataframe tbody tr th:only-of-type {\n",
       "        vertical-align: middle;\n",
       "    }\n",
       "\n",
       "    .dataframe tbody tr th {\n",
       "        vertical-align: top;\n",
       "    }\n",
       "\n",
       "    .dataframe thead th {\n",
       "        text-align: right;\n",
       "    }\n",
       "</style>\n",
       "<table border=\"1\" class=\"dataframe\">\n",
       "  <thead>\n",
       "    <tr style=\"text-align: right;\">\n",
       "      <th></th>\n",
       "      <th>CA</th>\n",
       "    </tr>\n",
       "    <tr>\n",
       "      <th>id_prod</th>\n",
       "      <th></th>\n",
       "    </tr>\n",
       "  </thead>\n",
       "  <tbody>\n",
       "    <tr>\n",
       "      <th>0_1539</th>\n",
       "      <td>0.99</td>\n",
       "    </tr>\n",
       "    <tr>\n",
       "      <th>0_1284</th>\n",
       "      <td>1.38</td>\n",
       "    </tr>\n",
       "    <tr>\n",
       "      <th>0_1653</th>\n",
       "      <td>1.98</td>\n",
       "    </tr>\n",
       "    <tr>\n",
       "      <th>0_541</th>\n",
       "      <td>1.99</td>\n",
       "    </tr>\n",
       "    <tr>\n",
       "      <th>0_807</th>\n",
       "      <td>1.99</td>\n",
       "    </tr>\n",
       "    <tr>\n",
       "      <th>0_1601</th>\n",
       "      <td>1.99</td>\n",
       "    </tr>\n",
       "    <tr>\n",
       "      <th>0_1728</th>\n",
       "      <td>2.27</td>\n",
       "    </tr>\n",
       "    <tr>\n",
       "      <th>0_1498</th>\n",
       "      <td>2.48</td>\n",
       "    </tr>\n",
       "    <tr>\n",
       "      <th>0_898</th>\n",
       "      <td>2.54</td>\n",
       "    </tr>\n",
       "    <tr>\n",
       "      <th>0_1840</th>\n",
       "      <td>2.56</td>\n",
       "    </tr>\n",
       "  </tbody>\n",
       "</table>\n",
       "</div>"
      ],
      "text/plain": [
       "           CA\n",
       "id_prod      \n",
       "0_1539   0.99\n",
       "0_1284   1.38\n",
       "0_1653   1.98\n",
       "0_541    1.99\n",
       "0_807    1.99\n",
       "0_1601   1.99\n",
       "0_1728   2.27\n",
       "0_1498   2.48\n",
       "0_898    2.54\n",
       "0_1840   2.56"
      ]
     },
     "execution_count": 32,
     "metadata": {},
     "output_type": "execute_result"
    }
   ],
   "source": [
    "CA_prod.sort_values(by=[\"CA\"]).iloc[:10]  # les 10 derniers produits classés par CA"
   ]
  },
  {
   "cell_type": "code",
   "execution_count": 33,
   "id": "70de4dec-83c9-449e-a07a-35ef21684cb8",
   "metadata": {},
   "outputs": [
    {
     "data": {
      "text/plain": [
       "count     3266.000000\n",
       "mean      3630.109146\n",
       "std       7370.838410\n",
       "min          0.990000\n",
       "25%        233.832500\n",
       "50%        797.220000\n",
       "75%       3406.200000\n",
       "max      94893.500000\n",
       "Name: CA, dtype: float64"
      ]
     },
     "execution_count": 33,
     "metadata": {},
     "output_type": "execute_result"
    }
   ],
   "source": [
    "CA_prod.CA.describe()  # les indicateurs principaux de la variable CA"
   ]
  },
  {
   "cell_type": "markdown",
   "id": "afb02acd-7b06-4357-9e71-2278ad60e1c2",
   "metadata": {},
   "source": [
    "**CA par catégories**"
   ]
  },
  {
   "cell_type": "code",
   "execution_count": 34,
   "id": "ca43654d-b577-4999-aa51-a14e763177c2",
   "metadata": {},
   "outputs": [
    {
     "data": {
      "text/html": [
       "<div>\n",
       "<style scoped>\n",
       "    .dataframe tbody tr th:only-of-type {\n",
       "        vertical-align: middle;\n",
       "    }\n",
       "\n",
       "    .dataframe tbody tr th {\n",
       "        vertical-align: top;\n",
       "    }\n",
       "\n",
       "    .dataframe thead th {\n",
       "        text-align: right;\n",
       "    }\n",
       "</style>\n",
       "<table border=\"1\" class=\"dataframe\">\n",
       "  <thead>\n",
       "    <tr style=\"text-align: right;\">\n",
       "      <th></th>\n",
       "      <th>CA</th>\n",
       "    </tr>\n",
       "    <tr>\n",
       "      <th>categ</th>\n",
       "      <th></th>\n",
       "    </tr>\n",
       "  </thead>\n",
       "  <tbody>\n",
       "    <tr>\n",
       "      <th>0.0</th>\n",
       "      <td>4421938.76</td>\n",
       "    </tr>\n",
       "    <tr>\n",
       "      <th>1.0</th>\n",
       "      <td>4653722.69</td>\n",
       "    </tr>\n",
       "    <tr>\n",
       "      <th>2.0</th>\n",
       "      <td>2780275.02</td>\n",
       "    </tr>\n",
       "  </tbody>\n",
       "</table>\n",
       "</div>"
      ],
      "text/plain": [
       "               CA\n",
       "categ            \n",
       "0.0    4421938.76\n",
       "1.0    4653722.69\n",
       "2.0    2780275.02"
      ]
     },
     "execution_count": 34,
     "metadata": {},
     "output_type": "execute_result"
    }
   ],
   "source": [
    "CA_categ = trans_prod.groupby(by=\"categ\").sum(\"price\")\n",
    "CA_categ.rename(columns={\"price\": \"CA\"}, inplace=True)\n",
    "CA_categ.head()"
   ]
  },
  {
   "cell_type": "markdown",
   "id": "806758d0-ef72-41d2-a894-fe7d19c91aec",
   "metadata": {},
   "source": [
    "## Analyse de tendance et saisonnalité"
   ]
  },
  {
   "cell_type": "code",
   "execution_count": 35,
   "id": "eae60104-5f08-4b14-9dc7-ebf4c2d33dd5",
   "metadata": {
    "tags": []
   },
   "outputs": [
    {
     "name": "stdout",
     "output_type": "stream",
     "text": [
      "<class 'pandas.core.frame.DataFrame'>\n",
      "RangeIndex: 679332 entries, 0 to 679331\n",
      "Data columns (total 7 columns):\n",
      " #   Column      Non-Null Count   Dtype         \n",
      "---  ------      --------------   -----         \n",
      " 0   id_prod     679332 non-null  object        \n",
      " 1   date        679332 non-null  datetime64[ns]\n",
      " 2   session_id  679332 non-null  object        \n",
      " 3   client_id   679332 non-null  object        \n",
      " 4   price       679332 non-null  float64       \n",
      " 5   categ       679332 non-null  float64       \n",
      " 6   _merge      679332 non-null  category      \n",
      "dtypes: category(1), datetime64[ns](1), float64(2), object(3)\n",
      "memory usage: 31.7+ MB\n"
     ]
    }
   ],
   "source": [
    "trans_prod.info()"
   ]
  },
  {
   "cell_type": "code",
   "execution_count": 36,
   "id": "9e557b3f-448b-48dd-9fd4-edcd3519c949",
   "metadata": {
    "tags": []
   },
   "outputs": [
    {
     "data": {
      "text/html": [
       "<div>\n",
       "<style scoped>\n",
       "    .dataframe tbody tr th:only-of-type {\n",
       "        vertical-align: middle;\n",
       "    }\n",
       "\n",
       "    .dataframe tbody tr th {\n",
       "        vertical-align: top;\n",
       "    }\n",
       "\n",
       "    .dataframe thead th {\n",
       "        text-align: right;\n",
       "    }\n",
       "</style>\n",
       "<table border=\"1\" class=\"dataframe\">\n",
       "  <thead>\n",
       "    <tr style=\"text-align: right;\">\n",
       "      <th></th>\n",
       "      <th>id_prod</th>\n",
       "      <th>date</th>\n",
       "      <th>session_id</th>\n",
       "      <th>client_id</th>\n",
       "      <th>price</th>\n",
       "      <th>categ</th>\n",
       "      <th>_merge</th>\n",
       "      <th>year</th>\n",
       "      <th>month</th>\n",
       "      <th>periode</th>\n",
       "    </tr>\n",
       "  </thead>\n",
       "  <tbody>\n",
       "    <tr>\n",
       "      <th>0</th>\n",
       "      <td>0_1518</td>\n",
       "      <td>2022-05-20 13:21:29.043970</td>\n",
       "      <td>s_211425</td>\n",
       "      <td>c_103</td>\n",
       "      <td>4.18</td>\n",
       "      <td>0.0</td>\n",
       "      <td>both</td>\n",
       "      <td>22</td>\n",
       "      <td>05</td>\n",
       "      <td>22-05</td>\n",
       "    </tr>\n",
       "    <tr>\n",
       "      <th>1</th>\n",
       "      <td>1_251</td>\n",
       "      <td>2022-02-02 07:55:19.149409</td>\n",
       "      <td>s_158752</td>\n",
       "      <td>c_8534</td>\n",
       "      <td>15.99</td>\n",
       "      <td>1.0</td>\n",
       "      <td>both</td>\n",
       "      <td>22</td>\n",
       "      <td>02</td>\n",
       "      <td>22-02</td>\n",
       "    </tr>\n",
       "    <tr>\n",
       "      <th>2</th>\n",
       "      <td>0_1277</td>\n",
       "      <td>2022-06-18 15:44:33.155329</td>\n",
       "      <td>s_225667</td>\n",
       "      <td>c_6714</td>\n",
       "      <td>7.99</td>\n",
       "      <td>0.0</td>\n",
       "      <td>both</td>\n",
       "      <td>22</td>\n",
       "      <td>06</td>\n",
       "      <td>22-06</td>\n",
       "    </tr>\n",
       "    <tr>\n",
       "      <th>3</th>\n",
       "      <td>2_209</td>\n",
       "      <td>2021-06-24 04:19:29.835891</td>\n",
       "      <td>s_52962</td>\n",
       "      <td>c_6941</td>\n",
       "      <td>69.99</td>\n",
       "      <td>2.0</td>\n",
       "      <td>both</td>\n",
       "      <td>21</td>\n",
       "      <td>06</td>\n",
       "      <td>21-06</td>\n",
       "    </tr>\n",
       "    <tr>\n",
       "      <th>4</th>\n",
       "      <td>0_1509</td>\n",
       "      <td>2023-01-11 08:22:08.194479</td>\n",
       "      <td>s_325227</td>\n",
       "      <td>c_4232</td>\n",
       "      <td>4.99</td>\n",
       "      <td>0.0</td>\n",
       "      <td>both</td>\n",
       "      <td>23</td>\n",
       "      <td>01</td>\n",
       "      <td>23-01</td>\n",
       "    </tr>\n",
       "  </tbody>\n",
       "</table>\n",
       "</div>"
      ],
      "text/plain": [
       "  id_prod                       date session_id client_id  price  categ  \\\n",
       "0  0_1518 2022-05-20 13:21:29.043970   s_211425     c_103   4.18    0.0   \n",
       "1   1_251 2022-02-02 07:55:19.149409   s_158752    c_8534  15.99    1.0   \n",
       "2  0_1277 2022-06-18 15:44:33.155329   s_225667    c_6714   7.99    0.0   \n",
       "3   2_209 2021-06-24 04:19:29.835891    s_52962    c_6941  69.99    2.0   \n",
       "4  0_1509 2023-01-11 08:22:08.194479   s_325227    c_4232   4.99    0.0   \n",
       "\n",
       "  _merge year month periode  \n",
       "0   both   22    05   22-05  \n",
       "1   both   22    02   22-02  \n",
       "2   both   22    06   22-06  \n",
       "3   both   21    06   21-06  \n",
       "4   both   23    01   23-01  "
      ]
     },
     "execution_count": 36,
     "metadata": {},
     "output_type": "execute_result"
    }
   ],
   "source": [
    "trans_prod[\"year\"] = trans_prod[\"date\"].dt.strftime(\"%y\")\n",
    "trans_prod[\"month\"] = trans_prod[\"date\"].dt.strftime(\"%m\")\n",
    "\n",
    "# Conversion de la colonne 'date' en format 'y-%m'\n",
    "trans_prod['periode'] = trans_prod['date'].dt.strftime('%y-%m')\n",
    "\n",
    "trans_prod.head()"
   ]
  },
  {
   "cell_type": "code",
   "execution_count": 37,
   "id": "c629203f-bec5-47eb-ba84-70a3bcee77b6",
   "metadata": {
    "tags": []
   },
   "outputs": [
    {
     "data": {
      "text/html": [
       "<div>\n",
       "<style scoped>\n",
       "    .dataframe tbody tr th:only-of-type {\n",
       "        vertical-align: middle;\n",
       "    }\n",
       "\n",
       "    .dataframe tbody tr th {\n",
       "        vertical-align: top;\n",
       "    }\n",
       "\n",
       "    .dataframe thead th {\n",
       "        text-align: right;\n",
       "    }\n",
       "</style>\n",
       "<table border=\"1\" class=\"dataframe\">\n",
       "  <thead>\n",
       "    <tr style=\"text-align: right;\">\n",
       "      <th></th>\n",
       "      <th>CA</th>\n",
       "    </tr>\n",
       "    <tr>\n",
       "      <th>periode</th>\n",
       "      <th></th>\n",
       "    </tr>\n",
       "  </thead>\n",
       "  <tbody>\n",
       "    <tr>\n",
       "      <th>21-03</th>\n",
       "      <td>482530.52</td>\n",
       "    </tr>\n",
       "    <tr>\n",
       "      <th>21-04</th>\n",
       "      <td>476249.16</td>\n",
       "    </tr>\n",
       "    <tr>\n",
       "      <th>21-05</th>\n",
       "      <td>493023.39</td>\n",
       "    </tr>\n",
       "    <tr>\n",
       "      <th>21-06</th>\n",
       "      <td>484158.49</td>\n",
       "    </tr>\n",
       "    <tr>\n",
       "      <th>21-07</th>\n",
       "      <td>482875.36</td>\n",
       "    </tr>\n",
       "  </tbody>\n",
       "</table>\n",
       "</div>"
      ],
      "text/plain": [
       "                CA\n",
       "periode           \n",
       "21-03    482530.52\n",
       "21-04    476249.16\n",
       "21-05    493023.39\n",
       "21-06    484158.49\n",
       "21-07    482875.36"
      ]
     },
     "execution_count": 37,
     "metadata": {},
     "output_type": "execute_result"
    }
   ],
   "source": [
    "CA_periode = (\n",
    "    trans_prod[[\"id_prod\", \"price\", \"periode\"]]\n",
    "    .groupby(by=\"periode\")\n",
    "    .sum(\"price\")\n",
    ")\n",
    "CA_periode.rename(columns={\"price\": \"CA\"}, inplace=True)\n",
    "CA_periode.head()"
   ]
  },
  {
   "cell_type": "code",
   "execution_count": 38,
   "id": "0806e70f-757e-43b9-b339-5bb1ffdcca44",
   "metadata": {
    "tags": []
   },
   "outputs": [
    {
     "data": {
      "text/plain": [
       "<Axes: xlabel='periode'>"
      ]
     },
     "execution_count": 38,
     "metadata": {},
     "output_type": "execute_result"
    },
    {
     "data": {
      "image/png": "[encoded data removed]",
      "text/plain": [
       "<Figure size 640x480 with 1 Axes>"
      ]
     },
     "metadata": {},
     "output_type": "display_data"
    }
   ],
   "source": [
    "CA_periode[\"CA\"].plot(kind=\"bar\")"
   ]
  },
  {
   "cell_type": "markdown",
   "id": "5b97f8cd-6887-4254-8fa4-11a903cde0ce",
   "metadata": {},
   "source": [
    "Octobre semble poser problème. Examen."
   ]
  },
  {
   "cell_type": "code",
   "execution_count": 39,
   "id": "8aa8779e-4a25-4a2b-b063-10dcaf20a47b",
   "metadata": {
    "tags": []
   },
   "outputs": [],
   "source": [
    "# Conversion de la colonne 'date' en type Date\n",
    "trans_prod['date_courte'] = trans_prod['date'].dt.strftime('%y-%m-%d')"
   ]
  },
  {
   "cell_type": "code",
   "execution_count": 40,
   "id": "bfa6349e-7ba6-4781-b970-0d22d444311f",
   "metadata": {
    "tags": []
   },
   "outputs": [
    {
     "data": {
      "image/png": "[encoded data removed]",
      "text/plain": [
       "<Figure size 1500x600 with 1 Axes>"
      ]
     },
     "metadata": {},
     "output_type": "display_data"
    }
   ],
   "source": [
    "subset_data = trans_prod[trans_prod['periode'] == \"21-10\"]\n",
    "grouped_data = subset_data.groupby(['categ', 'date_courte']).agg(CA=('price', 'sum')).reset_index()\n",
    "\n",
    "# Plotting\n",
    "plt.figure(figsize=(15, 6))\n",
    "for category, group in grouped_data.groupby('categ'):\n",
    "    plt.scatter(group['date_courte'], group['CA'], label=category)\n",
    "\n",
    "plt.title(\"Répartition du chiffre d'affaires par dates et catégories / octobre 2021\")\n",
    "plt.xlabel('Date')\n",
    "plt.ylabel(\"Chiffre d'affaires\")\n",
    "plt.xticks(rotation=90)  # Rotation des dates à 90 degrés\n",
    "plt.legend()\n",
    "plt.show()"
   ]
  },
  {
   "cell_type": "code",
   "execution_count": 41,
   "id": "27c9b568-6daa-47f7-8774-3d57081df99f",
   "metadata": {
    "tags": []
   },
   "outputs": [
    {
     "name": "stdout",
     "output_type": "stream",
     "text": [
      "  date_courte  count\n",
      "0    21-10-01    344\n",
      "1    21-10-28    316\n",
      "2    21-10-29    326\n",
      "3    21-10-30    338\n",
      "4    21-10-31    342\n"
     ]
    }
   ],
   "source": [
    "filtered_data = trans_prod[(trans_prod['periode'] == \"21-10\") & (trans_prod['categ'] == 1.0)]\n",
    "grouped_count = filtered_data.groupby('date_courte').size().reset_index(name='count')\n",
    "\n",
    "# Affichage du résultat\n",
    "print(grouped_count)"
   ]
  },
  {
   "cell_type": "markdown",
   "id": "044118be-01b4-44a2-9a45-7519d277fc5c",
   "metadata": {},
   "source": [
    "*Pas de transactions entre le 2 et le 27 octobre*"
   ]
  },
  {
   "cell_type": "markdown",
   "id": "98c03928-9085-45a8-a65e-9783ac552d15",
   "metadata": {},
   "source": [
    "**Correction de la période d'octobre 2021 par la moyenne des mois de septembre et décembre**"
   ]
  },
  {
   "cell_type": "code",
   "execution_count": 42,
   "id": "28f35de5-3604-48f7-bcc7-d4d7e41a472a",
   "metadata": {
    "tags": []
   },
   "outputs": [
    {
     "data": {
      "text/html": [
       "<div>\n",
       "<style scoped>\n",
       "    .dataframe tbody tr th:only-of-type {\n",
       "        vertical-align: middle;\n",
       "    }\n",
       "\n",
       "    .dataframe tbody tr th {\n",
       "        vertical-align: top;\n",
       "    }\n",
       "\n",
       "    .dataframe thead th {\n",
       "        text-align: right;\n",
       "    }\n",
       "</style>\n",
       "<table border=\"1\" class=\"dataframe\">\n",
       "  <thead>\n",
       "    <tr style=\"text-align: right;\">\n",
       "      <th></th>\n",
       "      <th>periode</th>\n",
       "      <th>CA</th>\n",
       "    </tr>\n",
       "  </thead>\n",
       "  <tbody>\n",
       "    <tr>\n",
       "      <th>0</th>\n",
       "      <td>21-03</td>\n",
       "      <td>482530.520</td>\n",
       "    </tr>\n",
       "    <tr>\n",
       "      <th>1</th>\n",
       "      <td>21-04</td>\n",
       "      <td>476249.160</td>\n",
       "    </tr>\n",
       "    <tr>\n",
       "      <th>2</th>\n",
       "      <td>21-05</td>\n",
       "      <td>493023.390</td>\n",
       "    </tr>\n",
       "    <tr>\n",
       "      <th>3</th>\n",
       "      <td>21-06</td>\n",
       "      <td>484158.490</td>\n",
       "    </tr>\n",
       "    <tr>\n",
       "      <th>4</th>\n",
       "      <td>21-07</td>\n",
       "      <td>482875.360</td>\n",
       "    </tr>\n",
       "    <tr>\n",
       "      <th>5</th>\n",
       "      <td>21-08</td>\n",
       "      <td>482374.700</td>\n",
       "    </tr>\n",
       "    <tr>\n",
       "      <th>6</th>\n",
       "      <td>21-09</td>\n",
       "      <td>507360.560</td>\n",
       "    </tr>\n",
       "    <tr>\n",
       "      <th>7</th>\n",
       "      <td>21-10</td>\n",
       "      <td>508868.435</td>\n",
       "    </tr>\n",
       "    <tr>\n",
       "      <th>8</th>\n",
       "      <td>21-11</td>\n",
       "      <td>516267.630</td>\n",
       "    </tr>\n",
       "    <tr>\n",
       "      <th>9</th>\n",
       "      <td>21-12</td>\n",
       "      <td>525987.210</td>\n",
       "    </tr>\n",
       "    <tr>\n",
       "      <th>10</th>\n",
       "      <td>22-01</td>\n",
       "      <td>525388.940</td>\n",
       "    </tr>\n",
       "    <tr>\n",
       "      <th>11</th>\n",
       "      <td>22-02</td>\n",
       "      <td>535681.390</td>\n",
       "    </tr>\n",
       "    <tr>\n",
       "      <th>12</th>\n",
       "      <td>22-03</td>\n",
       "      <td>515566.420</td>\n",
       "    </tr>\n",
       "    <tr>\n",
       "      <th>13</th>\n",
       "      <td>22-04</td>\n",
       "      <td>493138.800</td>\n",
       "    </tr>\n",
       "    <tr>\n",
       "      <th>14</th>\n",
       "      <td>22-05</td>\n",
       "      <td>517292.440</td>\n",
       "    </tr>\n",
       "    <tr>\n",
       "      <th>15</th>\n",
       "      <td>22-06</td>\n",
       "      <td>496086.050</td>\n",
       "    </tr>\n",
       "    <tr>\n",
       "      <th>16</th>\n",
       "      <td>22-07</td>\n",
       "      <td>510903.000</td>\n",
       "    </tr>\n",
       "    <tr>\n",
       "      <th>17</th>\n",
       "      <td>22-08</td>\n",
       "      <td>506547.190</td>\n",
       "    </tr>\n",
       "    <tr>\n",
       "      <th>18</th>\n",
       "      <td>22-09</td>\n",
       "      <td>494204.440</td>\n",
       "    </tr>\n",
       "    <tr>\n",
       "      <th>19</th>\n",
       "      <td>22-10</td>\n",
       "      <td>508017.670</td>\n",
       "    </tr>\n",
       "    <tr>\n",
       "      <th>20</th>\n",
       "      <td>22-11</td>\n",
       "      <td>496774.830</td>\n",
       "    </tr>\n",
       "    <tr>\n",
       "      <th>21</th>\n",
       "      <td>22-12</td>\n",
       "      <td>510279.440</td>\n",
       "    </tr>\n",
       "    <tr>\n",
       "      <th>22</th>\n",
       "      <td>23-01</td>\n",
       "      <td>517610.480</td>\n",
       "    </tr>\n",
       "    <tr>\n",
       "      <th>23</th>\n",
       "      <td>23-02</td>\n",
       "      <td>456749.690</td>\n",
       "    </tr>\n",
       "  </tbody>\n",
       "</table>\n",
       "</div>"
      ],
      "text/plain": [
       "   periode          CA\n",
       "0    21-03  482530.520\n",
       "1    21-04  476249.160\n",
       "2    21-05  493023.390\n",
       "3    21-06  484158.490\n",
       "4    21-07  482875.360\n",
       "5    21-08  482374.700\n",
       "6    21-09  507360.560\n",
       "7    21-10  508868.435\n",
       "8    21-11  516267.630\n",
       "9    21-12  525987.210\n",
       "10   22-01  525388.940\n",
       "11   22-02  535681.390\n",
       "12   22-03  515566.420\n",
       "13   22-04  493138.800\n",
       "14   22-05  517292.440\n",
       "15   22-06  496086.050\n",
       "16   22-07  510903.000\n",
       "17   22-08  506547.190\n",
       "18   22-09  494204.440\n",
       "19   22-10  508017.670\n",
       "20   22-11  496774.830\n",
       "21   22-12  510279.440\n",
       "22   23-01  517610.480\n",
       "23   23-02  456749.690"
      ]
     },
     "execution_count": 42,
     "metadata": {},
     "output_type": "execute_result"
    }
   ],
   "source": [
    "CA_periode_corr = CA_periode.reset_index()\n",
    "\n",
    "mask_1 = (trans_prod['categ'].isin([0, 2])) & (trans_prod['periode'] == \"21-10\")\n",
    "mask_2 = (trans_prod['categ'] == 1) & (trans_prod['periode'].isin([\"21-09\", \"21-11\"]))\n",
    "\n",
    "CA_periode_corr.loc[CA_periode_corr['periode'] == \"21-10\", 'CA'] = (\n",
    "    sum(trans_prod[mask_1]['price']) + sum(trans_prod[mask_2]['price']) / 2\n",
    ")\n",
    "CA_periode_corr"
   ]
  },
  {
   "cell_type": "markdown",
   "id": "5fc83377-a239-45f7-97b9-4ec203e3634f",
   "metadata": {},
   "source": [
    "### Moyennes mobiles et décompositions"
   ]
  },
  {
   "cell_type": "code",
   "execution_count": 43,
   "id": "41b7a250-f06d-48c9-988f-05dcc8e6624f",
   "metadata": {},
   "outputs": [
    {
     "data": {
      "text/plain": [
       "periode    24\n",
       "CA         24\n",
       "dtype: int64"
      ]
     },
     "execution_count": 43,
     "metadata": {},
     "output_type": "execute_result"
    }
   ],
   "source": [
    "CA_periode_corr.count()"
   ]
  },
  {
   "cell_type": "code",
   "execution_count": 44,
   "id": "59801355-b15d-4d8f-ba9f-d41d7773f7f3",
   "metadata": {},
   "outputs": [],
   "source": [
    "serie_periodes = pd.date_range(start=\"2021-03\", end=\"2023-02\", freq=\"MS\")\n",
    "CA_periode_corr[\"date\"] = serie_periodes\n",
    "CA_periode_corr = CA_periode_corr.set_index(\"date\")"
   ]
  },
  {
   "cell_type": "code",
   "execution_count": 45,
   "id": "2d63a1ce-2c83-47e1-91ea-003174d73b77",
   "metadata": {},
   "outputs": [
    {
     "data": {
      "text/html": [
       "<div>\n",
       "<style scoped>\n",
       "    .dataframe tbody tr th:only-of-type {\n",
       "        vertical-align: middle;\n",
       "    }\n",
       "\n",
       "    .dataframe tbody tr th {\n",
       "        vertical-align: top;\n",
       "    }\n",
       "\n",
       "    .dataframe thead th {\n",
       "        text-align: right;\n",
       "    }\n",
       "</style>\n",
       "<table border=\"1\" class=\"dataframe\">\n",
       "  <thead>\n",
       "    <tr style=\"text-align: right;\">\n",
       "      <th></th>\n",
       "      <th>periode</th>\n",
       "      <th>CA</th>\n",
       "    </tr>\n",
       "    <tr>\n",
       "      <th>date</th>\n",
       "      <th></th>\n",
       "      <th></th>\n",
       "    </tr>\n",
       "  </thead>\n",
       "  <tbody>\n",
       "    <tr>\n",
       "      <th>2021-03-01</th>\n",
       "      <td>21-03</td>\n",
       "      <td>482530.520</td>\n",
       "    </tr>\n",
       "    <tr>\n",
       "      <th>2021-04-01</th>\n",
       "      <td>21-04</td>\n",
       "      <td>476249.160</td>\n",
       "    </tr>\n",
       "    <tr>\n",
       "      <th>2021-05-01</th>\n",
       "      <td>21-05</td>\n",
       "      <td>493023.390</td>\n",
       "    </tr>\n",
       "    <tr>\n",
       "      <th>2021-06-01</th>\n",
       "      <td>21-06</td>\n",
       "      <td>484158.490</td>\n",
       "    </tr>\n",
       "    <tr>\n",
       "      <th>2021-07-01</th>\n",
       "      <td>21-07</td>\n",
       "      <td>482875.360</td>\n",
       "    </tr>\n",
       "    <tr>\n",
       "      <th>2021-08-01</th>\n",
       "      <td>21-08</td>\n",
       "      <td>482374.700</td>\n",
       "    </tr>\n",
       "    <tr>\n",
       "      <th>2021-09-01</th>\n",
       "      <td>21-09</td>\n",
       "      <td>507360.560</td>\n",
       "    </tr>\n",
       "    <tr>\n",
       "      <th>2021-10-01</th>\n",
       "      <td>21-10</td>\n",
       "      <td>508868.435</td>\n",
       "    </tr>\n",
       "    <tr>\n",
       "      <th>2021-11-01</th>\n",
       "      <td>21-11</td>\n",
       "      <td>516267.630</td>\n",
       "    </tr>\n",
       "    <tr>\n",
       "      <th>2021-12-01</th>\n",
       "      <td>21-12</td>\n",
       "      <td>525987.210</td>\n",
       "    </tr>\n",
       "    <tr>\n",
       "      <th>2022-01-01</th>\n",
       "      <td>22-01</td>\n",
       "      <td>525388.940</td>\n",
       "    </tr>\n",
       "    <tr>\n",
       "      <th>2022-02-01</th>\n",
       "      <td>22-02</td>\n",
       "      <td>535681.390</td>\n",
       "    </tr>\n",
       "    <tr>\n",
       "      <th>2022-03-01</th>\n",
       "      <td>22-03</td>\n",
       "      <td>515566.420</td>\n",
       "    </tr>\n",
       "    <tr>\n",
       "      <th>2022-04-01</th>\n",
       "      <td>22-04</td>\n",
       "      <td>493138.800</td>\n",
       "    </tr>\n",
       "    <tr>\n",
       "      <th>2022-05-01</th>\n",
       "      <td>22-05</td>\n",
       "      <td>517292.440</td>\n",
       "    </tr>\n",
       "    <tr>\n",
       "      <th>2022-06-01</th>\n",
       "      <td>22-06</td>\n",
       "      <td>496086.050</td>\n",
       "    </tr>\n",
       "    <tr>\n",
       "      <th>2022-07-01</th>\n",
       "      <td>22-07</td>\n",
       "      <td>510903.000</td>\n",
       "    </tr>\n",
       "    <tr>\n",
       "      <th>2022-08-01</th>\n",
       "      <td>22-08</td>\n",
       "      <td>506547.190</td>\n",
       "    </tr>\n",
       "    <tr>\n",
       "      <th>2022-09-01</th>\n",
       "      <td>22-09</td>\n",
       "      <td>494204.440</td>\n",
       "    </tr>\n",
       "    <tr>\n",
       "      <th>2022-10-01</th>\n",
       "      <td>22-10</td>\n",
       "      <td>508017.670</td>\n",
       "    </tr>\n",
       "    <tr>\n",
       "      <th>2022-11-01</th>\n",
       "      <td>22-11</td>\n",
       "      <td>496774.830</td>\n",
       "    </tr>\n",
       "    <tr>\n",
       "      <th>2022-12-01</th>\n",
       "      <td>22-12</td>\n",
       "      <td>510279.440</td>\n",
       "    </tr>\n",
       "    <tr>\n",
       "      <th>2023-01-01</th>\n",
       "      <td>23-01</td>\n",
       "      <td>517610.480</td>\n",
       "    </tr>\n",
       "    <tr>\n",
       "      <th>2023-02-01</th>\n",
       "      <td>23-02</td>\n",
       "      <td>456749.690</td>\n",
       "    </tr>\n",
       "  </tbody>\n",
       "</table>\n",
       "</div>"
      ],
      "text/plain": [
       "           periode          CA\n",
       "date                          \n",
       "2021-03-01   21-03  482530.520\n",
       "2021-04-01   21-04  476249.160\n",
       "2021-05-01   21-05  493023.390\n",
       "2021-06-01   21-06  484158.490\n",
       "2021-07-01   21-07  482875.360\n",
       "2021-08-01   21-08  482374.700\n",
       "2021-09-01   21-09  507360.560\n",
       "2021-10-01   21-10  508868.435\n",
       "2021-11-01   21-11  516267.630\n",
       "2021-12-01   21-12  525987.210\n",
       "2022-01-01   22-01  525388.940\n",
       "2022-02-01   22-02  535681.390\n",
       "2022-03-01   22-03  515566.420\n",
       "2022-04-01   22-04  493138.800\n",
       "2022-05-01   22-05  517292.440\n",
       "2022-06-01   22-06  496086.050\n",
       "2022-07-01   22-07  510903.000\n",
       "2022-08-01   22-08  506547.190\n",
       "2022-09-01   22-09  494204.440\n",
       "2022-10-01   22-10  508017.670\n",
       "2022-11-01   22-11  496774.830\n",
       "2022-12-01   22-12  510279.440\n",
       "2023-01-01   23-01  517610.480\n",
       "2023-02-01   23-02  456749.690"
      ]
     },
     "execution_count": 45,
     "metadata": {},
     "output_type": "execute_result"
    }
   ],
   "source": [
    "CA_periode_corr"
   ]
  },
  {
   "cell_type": "code",
   "execution_count": 46,
   "id": "765c8619-2f91-4501-995c-ab9a809069b0",
   "metadata": {},
   "outputs": [
    {
     "name": "stdout",
     "output_type": "stream",
     "text": [
      "<class 'pandas.core.frame.DataFrame'>\n",
      "DatetimeIndex: 24 entries, 2021-03-01 to 2023-02-01\n",
      "Data columns (total 2 columns):\n",
      " #   Column   Non-Null Count  Dtype  \n",
      "---  ------   --------------  -----  \n",
      " 0   periode  24 non-null     object \n",
      " 1   CA       24 non-null     float64\n",
      "dtypes: float64(1), object(1)\n",
      "memory usage: 576.0+ bytes\n"
     ]
    }
   ],
   "source": [
    "CA_periode_corr.info()"
   ]
  },
  {
   "cell_type": "code",
   "execution_count": 47,
   "id": "8b9c5d4d-7c8b-4be4-b49e-9faa0d6635e1",
   "metadata": {},
   "outputs": [
    {
     "data": {
      "text/plain": [
       "pandas.core.indexes.datetimes.DatetimeIndex"
      ]
     },
     "execution_count": 47,
     "metadata": {},
     "output_type": "execute_result"
    }
   ],
   "source": [
    "type(serie_periodes)"
   ]
  },
  {
   "cell_type": "markdown",
   "id": "925221e6-4df1-43c0-80bf-83f44f0be7ff",
   "metadata": {},
   "source": [
    "**SMA - Single Mobile Average**"
   ]
  },
  {
   "cell_type": "code",
   "execution_count": 48,
   "id": "50ff9fd7-859d-41b5-97a8-5d087aeb2774",
   "metadata": {
    "tags": []
   },
   "outputs": [
    {
     "data": {
      "image/png": "[encoded data removed]",
      "text/plain": [
       "<Figure size 1600x900 with 4 Axes>"
      ]
     },
     "metadata": {},
     "output_type": "display_data"
    }
   ],
   "source": [
    "from statsmodels.tsa.seasonal import seasonal_decompose\n",
    "\n",
    "SMA_decomp = seasonal_decompose(CA_periode_corr[\"CA\"])\n",
    "fig = SMA_decomp.plot()\n",
    "fig.set_size_inches((16, 9))\n",
    "plt.show()"
   ]
  },
  {
   "cell_type": "code",
   "execution_count": 49,
   "id": "face4a70-a39e-47a7-93d2-3e0bde2c46a6",
   "metadata": {
    "tags": []
   },
   "outputs": [
    {
     "data": {
      "text/plain": [
       "date\n",
       "2021-03-01              NaN\n",
       "2021-04-01              NaN\n",
       "2021-05-01              NaN\n",
       "2021-06-01              NaN\n",
       "2021-07-01              NaN\n",
       "2021-08-01              NaN\n",
       "2021-09-01    503106.977917\n",
       "2021-10-01    505187.208750\n",
       "2021-11-01    506902.154167\n",
       "2021-12-01    508410.346250\n",
       "2022-01-01    510075.146250\n",
       "2022-02-01    512250.151667\n",
       "2022-03-01    512709.167083\n",
       "2022-04-01    512125.546875\n",
       "2022-05-01    511277.898333\n",
       "2022-06-01    509811.207917\n",
       "2022-07-01    508832.615000\n",
       "2022-08-01    505219.691667\n",
       "2022-09-01              NaN\n",
       "2022-10-01              NaN\n",
       "2022-11-01              NaN\n",
       "2022-12-01              NaN\n",
       "2023-01-01              NaN\n",
       "2023-02-01              NaN\n",
       "Name: trend, dtype: float64"
      ]
     },
     "execution_count": 49,
     "metadata": {},
     "output_type": "execute_result"
    }
   ],
   "source": [
    "SMA_decomp.trend"
   ]
  },
  {
   "cell_type": "markdown",
   "id": "533c59cf-0c10-4d50-a780-3e11af71d023",
   "metadata": {},
   "source": [
    "*Nous remarquons une saisonnalité marquée.*"
   ]
  },
  {
   "cell_type": "markdown",
   "id": "47e77b78-a159-4ab5-a91e-6089a54350b2",
   "metadata": {},
   "source": [
    "## Analyse de la clientèle"
   ]
  },
  {
   "cell_type": "markdown",
   "id": "33977674-aa77-4f92-9e25-ccaa1ca1b7b4",
   "metadata": {},
   "source": [
    "Détermination de l'âge / positionnement en 2023"
   ]
  },
  {
   "cell_type": "code",
   "execution_count": 50,
   "id": "7dd54a1c-0ace-4d3d-9bae-f66ab5cf6525",
   "metadata": {},
   "outputs": [
    {
     "data": {
      "text/html": [
       "<div>\n",
       "<style scoped>\n",
       "    .dataframe tbody tr th:only-of-type {\n",
       "        vertical-align: middle;\n",
       "    }\n",
       "\n",
       "    .dataframe tbody tr th {\n",
       "        vertical-align: top;\n",
       "    }\n",
       "\n",
       "    .dataframe thead th {\n",
       "        text-align: right;\n",
       "    }\n",
       "</style>\n",
       "<table border=\"1\" class=\"dataframe\">\n",
       "  <thead>\n",
       "    <tr style=\"text-align: right;\">\n",
       "      <th></th>\n",
       "      <th>client_id</th>\n",
       "      <th>sex</th>\n",
       "      <th>birth</th>\n",
       "      <th>age</th>\n",
       "    </tr>\n",
       "  </thead>\n",
       "  <tbody>\n",
       "    <tr>\n",
       "      <th>0</th>\n",
       "      <td>c_4410</td>\n",
       "      <td>f</td>\n",
       "      <td>1967</td>\n",
       "      <td>56</td>\n",
       "    </tr>\n",
       "    <tr>\n",
       "      <th>1</th>\n",
       "      <td>c_7839</td>\n",
       "      <td>f</td>\n",
       "      <td>1975</td>\n",
       "      <td>48</td>\n",
       "    </tr>\n",
       "    <tr>\n",
       "      <th>2</th>\n",
       "      <td>c_1699</td>\n",
       "      <td>f</td>\n",
       "      <td>1984</td>\n",
       "      <td>39</td>\n",
       "    </tr>\n",
       "    <tr>\n",
       "      <th>3</th>\n",
       "      <td>c_5961</td>\n",
       "      <td>f</td>\n",
       "      <td>1962</td>\n",
       "      <td>61</td>\n",
       "    </tr>\n",
       "    <tr>\n",
       "      <th>4</th>\n",
       "      <td>c_5320</td>\n",
       "      <td>m</td>\n",
       "      <td>1943</td>\n",
       "      <td>80</td>\n",
       "    </tr>\n",
       "  </tbody>\n",
       "</table>\n",
       "</div>"
      ],
      "text/plain": [
       "  client_id sex  birth  age\n",
       "0    c_4410   f   1967   56\n",
       "1    c_7839   f   1975   48\n",
       "2    c_1699   f   1984   39\n",
       "3    c_5961   f   1962   61\n",
       "4    c_5320   m   1943   80"
      ]
     },
     "execution_count": 50,
     "metadata": {},
     "output_type": "execute_result"
    }
   ],
   "source": [
    "customers[\"age\"] = 2023 - customers[\"birth\"]\n",
    "customers.head()"
   ]
  },
  {
   "cell_type": "code",
   "execution_count": 51,
   "id": "5dd91d98-bfe8-4adc-a1c3-b6594b2b2c80",
   "metadata": {},
   "outputs": [
    {
     "data": {
      "text/html": [
       "<div>\n",
       "<style scoped>\n",
       "    .dataframe tbody tr th:only-of-type {\n",
       "        vertical-align: middle;\n",
       "    }\n",
       "\n",
       "    .dataframe tbody tr th {\n",
       "        vertical-align: top;\n",
       "    }\n",
       "\n",
       "    .dataframe thead tr th {\n",
       "        text-align: left;\n",
       "    }\n",
       "</style>\n",
       "<table border=\"1\" class=\"dataframe\">\n",
       "  <thead>\n",
       "    <tr>\n",
       "      <th></th>\n",
       "      <th>sex</th>\n",
       "      <th colspan=\"4\" halign=\"left\">age</th>\n",
       "    </tr>\n",
       "    <tr>\n",
       "      <th></th>\n",
       "      <th></th>\n",
       "      <th>max</th>\n",
       "      <th>min</th>\n",
       "      <th>mean</th>\n",
       "      <th>std</th>\n",
       "    </tr>\n",
       "  </thead>\n",
       "  <tbody>\n",
       "    <tr>\n",
       "      <th>0</th>\n",
       "      <td>f</td>\n",
       "      <td>94</td>\n",
       "      <td>19</td>\n",
       "      <td>45.005121</td>\n",
       "      <td>17.098242</td>\n",
       "    </tr>\n",
       "    <tr>\n",
       "      <th>1</th>\n",
       "      <td>m</td>\n",
       "      <td>94</td>\n",
       "      <td>19</td>\n",
       "      <td>44.408277</td>\n",
       "      <td>16.719656</td>\n",
       "    </tr>\n",
       "  </tbody>\n",
       "</table>\n",
       "</div>"
      ],
      "text/plain": [
       "  sex age                          \n",
       "      max min       mean        std\n",
       "0   f  94  19  45.005121  17.098242\n",
       "1   m  94  19  44.408277  16.719656"
      ]
     },
     "execution_count": 51,
     "metadata": {},
     "output_type": "execute_result"
    }
   ],
   "source": [
    "customers.groupby(\"sex\").agg({\"age\": [\"max\", \"min\", \"mean\", \"std\"]}).reset_index()"
   ]
  },
  {
   "cell_type": "code",
   "execution_count": 52,
   "id": "be68fd3f-f17d-4ae7-84d3-d40369f41753",
   "metadata": {},
   "outputs": [
    {
     "data": {
      "image/png": "[encoded data removed]",
      "text/plain": [
       "<Figure size 640x480 with 1 Axes>"
      ]
     },
     "metadata": {},
     "output_type": "display_data"
    }
   ],
   "source": [
    "# subsets\n",
    "men = customers[customers[\"sex\"] == \"m\"]\n",
    "women = customers[customers[\"sex\"] == \"f\"]\n",
    "\n",
    "plt.hist(customers[\"age\"], histtype=\"step\", color=\"green\", label=\"clientèle\")\n",
    "plt.hist(women[\"age\"], histtype=\"step\", color=\"red\", label=\"femmes\")\n",
    "plt.hist(men[\"age\"], histtype=\"step\", color=\"blue\", label=\"hommes\")\n",
    "plt.title(\"Age de la clientèle\")\n",
    "plt.legend()\n",
    "plt.show()"
   ]
  },
  {
   "cell_type": "markdown",
   "id": "33fa8e3d-3633-43a5-b729-960b8621760c",
   "metadata": {},
   "source": [
    "### Fusion des données trans_prod et customers"
   ]
  },
  {
   "cell_type": "code",
   "execution_count": 53,
   "id": "85bf80ec-a7a8-4b39-a876-0df9124d4464",
   "metadata": {},
   "outputs": [
    {
     "data": {
      "text/html": [
       "<div>\n",
       "<style scoped>\n",
       "    .dataframe tbody tr th:only-of-type {\n",
       "        vertical-align: middle;\n",
       "    }\n",
       "\n",
       "    .dataframe tbody tr th {\n",
       "        vertical-align: top;\n",
       "    }\n",
       "\n",
       "    .dataframe thead th {\n",
       "        text-align: right;\n",
       "    }\n",
       "</style>\n",
       "<table border=\"1\" class=\"dataframe\">\n",
       "  <thead>\n",
       "    <tr style=\"text-align: right;\">\n",
       "      <th></th>\n",
       "      <th>id_prod</th>\n",
       "      <th>date</th>\n",
       "      <th>session_id</th>\n",
       "      <th>client_id</th>\n",
       "      <th>price</th>\n",
       "      <th>categ</th>\n",
       "      <th>year</th>\n",
       "      <th>month</th>\n",
       "      <th>periode</th>\n",
       "      <th>date_courte</th>\n",
       "      <th>sex</th>\n",
       "      <th>birth</th>\n",
       "      <th>age</th>\n",
       "      <th>_merge</th>\n",
       "    </tr>\n",
       "  </thead>\n",
       "  <tbody>\n",
       "    <tr>\n",
       "      <th>0</th>\n",
       "      <td>0_1518</td>\n",
       "      <td>2022-05-20 13:21:29.043970</td>\n",
       "      <td>s_211425</td>\n",
       "      <td>c_103</td>\n",
       "      <td>4.18</td>\n",
       "      <td>0.0</td>\n",
       "      <td>22</td>\n",
       "      <td>05</td>\n",
       "      <td>22-05</td>\n",
       "      <td>22-05-20</td>\n",
       "      <td>f</td>\n",
       "      <td>1986</td>\n",
       "      <td>37</td>\n",
       "      <td>both</td>\n",
       "    </tr>\n",
       "    <tr>\n",
       "      <th>1</th>\n",
       "      <td>1_251</td>\n",
       "      <td>2022-02-02 07:55:19.149409</td>\n",
       "      <td>s_158752</td>\n",
       "      <td>c_8534</td>\n",
       "      <td>15.99</td>\n",
       "      <td>1.0</td>\n",
       "      <td>22</td>\n",
       "      <td>02</td>\n",
       "      <td>22-02</td>\n",
       "      <td>22-02-02</td>\n",
       "      <td>m</td>\n",
       "      <td>1988</td>\n",
       "      <td>35</td>\n",
       "      <td>both</td>\n",
       "    </tr>\n",
       "    <tr>\n",
       "      <th>2</th>\n",
       "      <td>0_1277</td>\n",
       "      <td>2022-06-18 15:44:33.155329</td>\n",
       "      <td>s_225667</td>\n",
       "      <td>c_6714</td>\n",
       "      <td>7.99</td>\n",
       "      <td>0.0</td>\n",
       "      <td>22</td>\n",
       "      <td>06</td>\n",
       "      <td>22-06</td>\n",
       "      <td>22-06-18</td>\n",
       "      <td>f</td>\n",
       "      <td>1968</td>\n",
       "      <td>55</td>\n",
       "      <td>both</td>\n",
       "    </tr>\n",
       "    <tr>\n",
       "      <th>3</th>\n",
       "      <td>2_209</td>\n",
       "      <td>2021-06-24 04:19:29.835891</td>\n",
       "      <td>s_52962</td>\n",
       "      <td>c_6941</td>\n",
       "      <td>69.99</td>\n",
       "      <td>2.0</td>\n",
       "      <td>21</td>\n",
       "      <td>06</td>\n",
       "      <td>21-06</td>\n",
       "      <td>21-06-24</td>\n",
       "      <td>m</td>\n",
       "      <td>2000</td>\n",
       "      <td>23</td>\n",
       "      <td>both</td>\n",
       "    </tr>\n",
       "    <tr>\n",
       "      <th>4</th>\n",
       "      <td>0_1509</td>\n",
       "      <td>2023-01-11 08:22:08.194479</td>\n",
       "      <td>s_325227</td>\n",
       "      <td>c_4232</td>\n",
       "      <td>4.99</td>\n",
       "      <td>0.0</td>\n",
       "      <td>23</td>\n",
       "      <td>01</td>\n",
       "      <td>23-01</td>\n",
       "      <td>23-01-11</td>\n",
       "      <td>m</td>\n",
       "      <td>1980</td>\n",
       "      <td>43</td>\n",
       "      <td>both</td>\n",
       "    </tr>\n",
       "  </tbody>\n",
       "</table>\n",
       "</div>"
      ],
      "text/plain": [
       "  id_prod                       date session_id client_id  price  categ year  \\\n",
       "0  0_1518 2022-05-20 13:21:29.043970   s_211425     c_103   4.18    0.0   22   \n",
       "1   1_251 2022-02-02 07:55:19.149409   s_158752    c_8534  15.99    1.0   22   \n",
       "2  0_1277 2022-06-18 15:44:33.155329   s_225667    c_6714   7.99    0.0   22   \n",
       "3   2_209 2021-06-24 04:19:29.835891    s_52962    c_6941  69.99    2.0   21   \n",
       "4  0_1509 2023-01-11 08:22:08.194479   s_325227    c_4232   4.99    0.0   23   \n",
       "\n",
       "  month periode date_courte sex  birth  age _merge  \n",
       "0    05   22-05    22-05-20   f   1986   37   both  \n",
       "1    02   22-02    22-02-02   m   1988   35   both  \n",
       "2    06   22-06    22-06-18   f   1968   55   both  \n",
       "3    06   21-06    21-06-24   m   2000   23   both  \n",
       "4    01   23-01    23-01-11   m   1980   43   both  "
      ]
     },
     "execution_count": 53,
     "metadata": {},
     "output_type": "execute_result"
    }
   ],
   "source": [
    "trans_prod = trans_prod.drop(columns=\"_merge\")  # nettoyage préliminaire\n",
    "custom_prod = pd.merge(\n",
    "    trans_prod, customers, on=\"client_id\", how=\"left\", indicator=True\n",
    ")\n",
    "custom_prod.head()"
   ]
  },
  {
   "cell_type": "code",
   "execution_count": 54,
   "id": "fe398286-067e-43b2-bb76-731e28e3e6f3",
   "metadata": {},
   "outputs": [
    {
     "name": "stdout",
     "output_type": "stream",
     "text": [
      "<class 'pandas.core.frame.DataFrame'>\n",
      "RangeIndex: 679332 entries, 0 to 679331\n",
      "Data columns (total 14 columns):\n",
      " #   Column       Non-Null Count   Dtype         \n",
      "---  ------       --------------   -----         \n",
      " 0   id_prod      679332 non-null  object        \n",
      " 1   date         679332 non-null  datetime64[ns]\n",
      " 2   session_id   679332 non-null  object        \n",
      " 3   client_id    679332 non-null  object        \n",
      " 4   price        679332 non-null  float64       \n",
      " 5   categ        679332 non-null  float64       \n",
      " 6   year         679332 non-null  object        \n",
      " 7   month        679332 non-null  object        \n",
      " 8   periode      679332 non-null  object        \n",
      " 9   date_courte  679332 non-null  object        \n",
      " 10  sex          679332 non-null  object        \n",
      " 11  birth        679332 non-null  int64         \n",
      " 12  age          679332 non-null  int64         \n",
      " 13  _merge       679332 non-null  category      \n",
      "dtypes: category(1), datetime64[ns](1), float64(2), int64(2), object(8)\n",
      "memory usage: 68.0+ MB\n"
     ]
    }
   ],
   "source": [
    "custom_prod.info()"
   ]
  },
  {
   "cell_type": "code",
   "execution_count": 55,
   "id": "9d5244a7-dec6-4aab-a52a-e4b4b545bc9c",
   "metadata": {},
   "outputs": [
    {
     "data": {
      "text/plain": [
       "_merge\n",
       "both          679332\n",
       "left_only          0\n",
       "right_only         0\n",
       "Name: count, dtype: int64"
      ]
     },
     "execution_count": 55,
     "metadata": {},
     "output_type": "execute_result"
    }
   ],
   "source": [
    "custom_prod._merge.value_counts()  # Toutes les valeurs sont communes"
   ]
  },
  {
   "cell_type": "code",
   "execution_count": 56,
   "id": "a2d65f45-01e6-462e-901a-1c2e40661159",
   "metadata": {},
   "outputs": [],
   "source": [
    "custom_prod = custom_prod.drop(columns=\"_merge\")"
   ]
  },
  {
   "cell_type": "code",
   "execution_count": 57,
   "id": "93bbbcc8-6885-49a4-b12a-90b4c58aeb42",
   "metadata": {},
   "outputs": [
    {
     "data": {
      "text/html": [
       "<div>\n",
       "<style scoped>\n",
       "    .dataframe tbody tr th:only-of-type {\n",
       "        vertical-align: middle;\n",
       "    }\n",
       "\n",
       "    .dataframe tbody tr th {\n",
       "        vertical-align: top;\n",
       "    }\n",
       "\n",
       "    .dataframe thead th {\n",
       "        text-align: right;\n",
       "    }\n",
       "</style>\n",
       "<table border=\"1\" class=\"dataframe\">\n",
       "  <thead>\n",
       "    <tr style=\"text-align: right;\">\n",
       "      <th></th>\n",
       "      <th>CA</th>\n",
       "    </tr>\n",
       "    <tr>\n",
       "      <th>client_id</th>\n",
       "      <th></th>\n",
       "    </tr>\n",
       "  </thead>\n",
       "  <tbody>\n",
       "    <tr>\n",
       "      <th>c_1</th>\n",
       "      <td>558.18</td>\n",
       "    </tr>\n",
       "    <tr>\n",
       "      <th>c_10</th>\n",
       "      <td>1353.60</td>\n",
       "    </tr>\n",
       "    <tr>\n",
       "      <th>c_100</th>\n",
       "      <td>254.85</td>\n",
       "    </tr>\n",
       "    <tr>\n",
       "      <th>c_1000</th>\n",
       "      <td>2261.89</td>\n",
       "    </tr>\n",
       "    <tr>\n",
       "      <th>c_1001</th>\n",
       "      <td>1812.86</td>\n",
       "    </tr>\n",
       "  </tbody>\n",
       "</table>\n",
       "</div>"
      ],
      "text/plain": [
       "                CA\n",
       "client_id         \n",
       "c_1         558.18\n",
       "c_10       1353.60\n",
       "c_100       254.85\n",
       "c_1000     2261.89\n",
       "c_1001     1812.86"
      ]
     },
     "execution_count": 57,
     "metadata": {},
     "output_type": "execute_result"
    }
   ],
   "source": [
    "CA_clients = custom_prod[[\"client_id\", \"price\"]].groupby(by=\"client_id\").sum(\"price\")\n",
    "CA_clients.rename(columns={\"price\": \"CA\"}, inplace=True)\n",
    "CA_clients.head()"
   ]
  },
  {
   "cell_type": "markdown",
   "id": "10cf90a0-3bd0-4fc6-81df-3c83c9c7db0b",
   "metadata": {},
   "source": [
    "### Courbe de Lorenz et indice de Gini"
   ]
  },
  {
   "cell_type": "markdown",
   "id": "76723932-5d99-49ef-b69e-5ba6b9b9afe7",
   "metadata": {},
   "source": [
    "**Courbe de Lorenz**"
   ]
  },
  {
   "cell_type": "code",
   "execution_count": 58,
   "id": "a95c898a-376f-4c01-9455-4f0c37961fc6",
   "metadata": {},
   "outputs": [
    {
     "data": {
      "image/png": "[encoded data removed]",
      "text/plain": [
       "<Figure size 640x480 with 1 Axes>"
      ]
     },
     "metadata": {},
     "output_type": "display_data"
    }
   ],
   "source": [
    "CA_cust = CA_clients[\"CA\"].values\n",
    "n = len(CA_cust)\n",
    "lorenz = np.cumsum(np.sort(CA_cust)) / CA_cust.sum()\n",
    "lorenz = np.append([0], lorenz)  # La courbe de Lorenz commence à 0\n",
    "\n",
    "xaxis = np.linspace(0 - 1 / n, 1 + 1 / n, n + 1)\n",
    "# Il y a un segment de taille n pour chaque individu,\n",
    "# plus 1 segment supplémentaire d'ordonnée 0.\n",
    "# Le premier segment commence à 0-1/n, et le dernier termine à 1+1/n.\n",
    "plt.plot(xaxis, lorenz, drawstyle=\"steps-post\")\n",
    "## line plot of equality\n",
    "plt.plot([0, 1], [0, 1], color=\"r\")\n",
    "plt.show()"
   ]
  },
  {
   "cell_type": "markdown",
   "id": "11269c32-0ff8-4cbd-8517-785a395a8024",
   "metadata": {},
   "source": [
    "**Indice de Gini**"
   ]
  },
  {
   "cell_type": "code",
   "execution_count": 59,
   "id": "a4b2263b-f573-4f48-9553-e19f607c6af9",
   "metadata": {},
   "outputs": [
    {
     "data": {
      "text/plain": [
       "0.4463949039188958"
      ]
     },
     "execution_count": 59,
     "metadata": {},
     "output_type": "execute_result"
    }
   ],
   "source": [
    "AUC = (lorenz.sum() - lorenz[-1] / 2 - lorenz[0] / 2) / n\n",
    "# Surface sous la courbe de Lorenz.\n",
    "# Le premier segment (lorenz[0]) est à moitié en dessous de 0, on le coupe donc en 2,\n",
    "# on fait de même pour le dernier segment lorenz[-1] qui est à moitié au dessus de 1.\n",
    "S = 0.5 - AUC  # surface entre la première bissectrice et le courbe de Lorenz\n",
    "gini = 2 * S\n",
    "gini"
   ]
  },
  {
   "cell_type": "markdown",
   "id": "e0646de0-e077-4902-bbae-ac21d6251975",
   "metadata": {},
   "source": [
    "*On compare les valeurs cumulées des déciles avec la droite d'équi-répartition, c'est une estimation de l'inégalité.*\n",
    "\n",
    "*Elle est ici très marquée.*"
   ]
  },
  {
   "cell_type": "code",
   "execution_count": 60,
   "id": "b1e3234a-4657-4d38-8ede-49243c29dd46",
   "metadata": {},
   "outputs": [
    {
     "data": {
      "text/plain": [
       "<Axes: xlabel='client_id'>"
      ]
     },
     "execution_count": 60,
     "metadata": {},
     "output_type": "execute_result"
    },
    {
     "data": {
      "image/png": "[encoded data removed]",
      "text/plain": [
       "<Figure size 640x480 with 1 Axes>"
      ]
     },
     "metadata": {},
     "output_type": "display_data"
    }
   ],
   "source": [
    "CA_clients.plot()"
   ]
  },
  {
   "cell_type": "code",
   "execution_count": 61,
   "id": "427f3257-7517-4dc4-ad37-bbd811f98949",
   "metadata": {},
   "outputs": [
    {
     "data": {
      "text/html": [
       "<div>\n",
       "<style scoped>\n",
       "    .dataframe tbody tr th:only-of-type {\n",
       "        vertical-align: middle;\n",
       "    }\n",
       "\n",
       "    .dataframe tbody tr th {\n",
       "        vertical-align: top;\n",
       "    }\n",
       "\n",
       "    .dataframe thead th {\n",
       "        text-align: right;\n",
       "    }\n",
       "</style>\n",
       "<table border=\"1\" class=\"dataframe\">\n",
       "  <thead>\n",
       "    <tr style=\"text-align: right;\">\n",
       "      <th></th>\n",
       "      <th>CA</th>\n",
       "    </tr>\n",
       "    <tr>\n",
       "      <th>client_id</th>\n",
       "      <th></th>\n",
       "    </tr>\n",
       "  </thead>\n",
       "  <tbody>\n",
       "    <tr>\n",
       "      <th>c_1609</th>\n",
       "      <td>324033.35</td>\n",
       "    </tr>\n",
       "    <tr>\n",
       "      <th>c_3454</th>\n",
       "      <td>113667.90</td>\n",
       "    </tr>\n",
       "    <tr>\n",
       "      <th>c_4958</th>\n",
       "      <td>289760.34</td>\n",
       "    </tr>\n",
       "    <tr>\n",
       "      <th>c_6714</th>\n",
       "      <td>153658.86</td>\n",
       "    </tr>\n",
       "  </tbody>\n",
       "</table>\n",
       "</div>"
      ],
      "text/plain": [
       "                  CA\n",
       "client_id           \n",
       "c_1609     324033.35\n",
       "c_3454     113667.90\n",
       "c_4958     289760.34\n",
       "c_6714     153658.86"
      ]
     },
     "execution_count": 61,
     "metadata": {},
     "output_type": "execute_result"
    }
   ],
   "source": [
    "CA_clients[CA_clients[\"CA\"] > 100000]  # Qui sont ces gros clients ?"
   ]
  },
  {
   "cell_type": "code",
   "execution_count": 62,
   "id": "e4056673-3562-4489-8479-7e5b2e4bf0b9",
   "metadata": {},
   "outputs": [
    {
     "data": {
      "text/html": [
       "<div>\n",
       "<style scoped>\n",
       "    .dataframe tbody tr th:only-of-type {\n",
       "        vertical-align: middle;\n",
       "    }\n",
       "\n",
       "    .dataframe tbody tr th {\n",
       "        vertical-align: top;\n",
       "    }\n",
       "\n",
       "    .dataframe thead th {\n",
       "        text-align: right;\n",
       "    }\n",
       "</style>\n",
       "<table border=\"1\" class=\"dataframe\">\n",
       "  <thead>\n",
       "    <tr style=\"text-align: right;\">\n",
       "      <th></th>\n",
       "      <th>CA</th>\n",
       "    </tr>\n",
       "    <tr>\n",
       "      <th>client_id</th>\n",
       "      <th></th>\n",
       "    </tr>\n",
       "  </thead>\n",
       "  <tbody>\n",
       "    <tr>\n",
       "      <th>c_1609</th>\n",
       "      <td>324033.35</td>\n",
       "    </tr>\n",
       "    <tr>\n",
       "      <th>c_4958</th>\n",
       "      <td>289760.34</td>\n",
       "    </tr>\n",
       "    <tr>\n",
       "      <th>c_6714</th>\n",
       "      <td>153658.86</td>\n",
       "    </tr>\n",
       "    <tr>\n",
       "      <th>c_3454</th>\n",
       "      <td>113667.90</td>\n",
       "    </tr>\n",
       "    <tr>\n",
       "      <th>c_3263</th>\n",
       "      <td>5276.87</td>\n",
       "    </tr>\n",
       "    <tr>\n",
       "      <th>c_1570</th>\n",
       "      <td>5271.62</td>\n",
       "    </tr>\n",
       "    <tr>\n",
       "      <th>c_2899</th>\n",
       "      <td>5214.05</td>\n",
       "    </tr>\n",
       "    <tr>\n",
       "      <th>c_2140</th>\n",
       "      <td>5208.82</td>\n",
       "    </tr>\n",
       "    <tr>\n",
       "      <th>c_7319</th>\n",
       "      <td>5155.77</td>\n",
       "    </tr>\n",
       "    <tr>\n",
       "      <th>c_8026</th>\n",
       "      <td>5092.57</td>\n",
       "    </tr>\n",
       "  </tbody>\n",
       "</table>\n",
       "</div>"
      ],
      "text/plain": [
       "                  CA\n",
       "client_id           \n",
       "c_1609     324033.35\n",
       "c_4958     289760.34\n",
       "c_6714     153658.86\n",
       "c_3454     113667.90\n",
       "c_3263       5276.87\n",
       "c_1570       5271.62\n",
       "c_2899       5214.05\n",
       "c_2140       5208.82\n",
       "c_7319       5155.77\n",
       "c_8026       5092.57"
      ]
     },
     "execution_count": 62,
     "metadata": {},
     "output_type": "execute_result"
    }
   ],
   "source": [
    "CA_clients.sort_values(\"CA\", ascending=False).head(10)\n",
    "# Les 10 premiers clients par CA / Le 5e est loin derrière."
   ]
  },
  {
   "cell_type": "markdown",
   "id": "84af9c6b-849f-4457-b144-25e0e74929af",
   "metadata": {},
   "source": [
    "## Etude des relations entre clientèle et produits"
   ]
  },
  {
   "cell_type": "markdown",
   "id": "c73d1750-cf48-4f8c-b1c6-24e9057fd35f",
   "metadata": {},
   "source": [
    "**Existe-t-il une relation significative entre le genre de la clientèle et la catégorie de livres achetés ?** "
   ]
  },
  {
   "cell_type": "markdown",
   "id": "a794916b-22f3-4630-bf69-b4098d890f6f",
   "metadata": {},
   "source": [
    "*Tableau de contingence*"
   ]
  },
  {
   "cell_type": "code",
   "execution_count": 63,
   "id": "159c259c-72a3-4f90-ada1-326c1385af14",
   "metadata": {},
   "outputs": [
    {
     "data": {
      "text/html": [
       "<div>\n",
       "<style scoped>\n",
       "    .dataframe tbody tr th:only-of-type {\n",
       "        vertical-align: middle;\n",
       "    }\n",
       "\n",
       "    .dataframe tbody tr th {\n",
       "        vertical-align: top;\n",
       "    }\n",
       "\n",
       "    .dataframe thead th {\n",
       "        text-align: right;\n",
       "    }\n",
       "</style>\n",
       "<table border=\"1\" class=\"dataframe\">\n",
       "  <thead>\n",
       "    <tr style=\"text-align: right;\">\n",
       "      <th>categ</th>\n",
       "      <th>0.0</th>\n",
       "      <th>1.0</th>\n",
       "      <th>2.0</th>\n",
       "    </tr>\n",
       "    <tr>\n",
       "      <th>sex</th>\n",
       "      <th></th>\n",
       "      <th></th>\n",
       "      <th></th>\n",
       "    </tr>\n",
       "  </thead>\n",
       "  <tbody>\n",
       "    <tr>\n",
       "      <th>f</th>\n",
       "      <td>206220</td>\n",
       "      <td>114899</td>\n",
       "      <td>17283</td>\n",
       "    </tr>\n",
       "    <tr>\n",
       "      <th>m</th>\n",
       "      <td>209460</td>\n",
       "      <td>112270</td>\n",
       "      <td>19200</td>\n",
       "    </tr>\n",
       "  </tbody>\n",
       "</table>\n",
       "</div>"
      ],
      "text/plain": [
       "categ     0.0     1.0    2.0\n",
       "sex                         \n",
       "f      206220  114899  17283\n",
       "m      209460  112270  19200"
      ]
     },
     "execution_count": 63,
     "metadata": {},
     "output_type": "execute_result"
    }
   ],
   "source": [
    "sex_categ = pd.crosstab(custom_prod['sex'], custom_prod['categ'])\n",
    "\n",
    "# Affichage de la table croisée\n",
    "sex_categ"
   ]
  },
  {
   "cell_type": "markdown",
   "id": "80c09e1d-0535-45f5-aea1-40a02864b016",
   "metadata": {},
   "source": [
    "*Pearson's Chi-squared Test*"
   ]
  },
  {
   "cell_type": "code",
   "execution_count": 64,
   "id": "9d563fe0-018b-4dad-8a84-d689c64e1362",
   "metadata": {},
   "outputs": [
    {
     "name": "stdout",
     "output_type": "stream",
     "text": [
      "Chi2 Stat: 147.00253568681114\n",
      "P-value: 1.1989607410166063e-32\n",
      "Degrees of Freedom: 2\n",
      "Expected Frequencies Table:\n",
      "categ            0.0            1.0           2.0\n",
      "sex                                              \n",
      "f      207066.564449  113161.817694  18173.617857\n",
      "m      208613.435551  114007.182306  18309.382143\n"
     ]
    }
   ],
   "source": [
    "from scipy.stats import chi2_contingency\n",
    "\n",
    "# Utiliser chi2_contingency pour effectuer le test du chi-carré\n",
    "chi2_stat, p_value, dof, expected = chi2_contingency(sex_categ)\n",
    "\n",
    "# Affichage des résultats du test\n",
    "print(\"Chi2 Stat:\", chi2_stat)\n",
    "print(\"P-value:\", p_value)\n",
    "print(\"Degrees of Freedom:\", dof)\n",
    "print(\"Expected Frequencies Table:\")\n",
    "print(pd.DataFrame(expected, index=sex_categ.index, columns=sex_categ.columns))"
   ]
  },
  {
   "cell_type": "markdown",
   "id": "3f38f1df-be2a-43b1-a440-6ef7ea8e2ddb",
   "metadata": {},
   "source": [
    "Avec un p proche de zéro, au risque de 5%, nous peut donc rejeter l’hypothèse d’indépendance des variables : sexes et catégories sont corrélés."
   ]
  },
  {
   "cell_type": "markdown",
   "id": "d595261a-bfcf-49eb-ac90-1b24e9ca6699",
   "metadata": {},
   "source": [
    "**En quoi l'âge des clients est-il corrélé aux variables : montant total des achats, fréquence d'achat, taille du panier moyen, catégories des livres achetés ?**"
   ]
  },
  {
   "cell_type": "markdown",
   "id": "c275270a-cd47-45e1-8c39-64d60b256e28",
   "metadata": {},
   "source": [
    "*Détermination des variables à considérer dans l'analyse*"
   ]
  },
  {
   "cell_type": "code",
   "execution_count": 65,
   "id": "7aa585b4-0047-446e-93c1-c4ce398a687e",
   "metadata": {
    "tags": []
   },
   "outputs": [
    {
     "data": {
      "text/html": [
       "<div>\n",
       "<style scoped>\n",
       "    .dataframe tbody tr th:only-of-type {\n",
       "        vertical-align: middle;\n",
       "    }\n",
       "\n",
       "    .dataframe tbody tr th {\n",
       "        vertical-align: top;\n",
       "    }\n",
       "\n",
       "    .dataframe thead th {\n",
       "        text-align: right;\n",
       "    }\n",
       "</style>\n",
       "<table border=\"1\" class=\"dataframe\">\n",
       "  <thead>\n",
       "    <tr style=\"text-align: right;\">\n",
       "      <th></th>\n",
       "      <th>client_id</th>\n",
       "      <th>CA</th>\n",
       "      <th>freq</th>\n",
       "      <th>avg_basket</th>\n",
       "      <th>age</th>\n",
       "    </tr>\n",
       "  </thead>\n",
       "  <tbody>\n",
       "    <tr>\n",
       "      <th>677</th>\n",
       "      <td>c_1609</td>\n",
       "      <td>324033.35</td>\n",
       "      <td>10997</td>\n",
       "      <td>2.317723</td>\n",
       "      <td>43</td>\n",
       "    </tr>\n",
       "    <tr>\n",
       "      <th>4388</th>\n",
       "      <td>c_4958</td>\n",
       "      <td>289760.34</td>\n",
       "      <td>3851</td>\n",
       "      <td>1.349000</td>\n",
       "      <td>24</td>\n",
       "    </tr>\n",
       "    <tr>\n",
       "      <th>6337</th>\n",
       "      <td>c_6714</td>\n",
       "      <td>153658.86</td>\n",
       "      <td>2620</td>\n",
       "      <td>3.506489</td>\n",
       "      <td>55</td>\n",
       "    </tr>\n",
       "    <tr>\n",
       "      <th>2724</th>\n",
       "      <td>c_3454</td>\n",
       "      <td>113667.90</td>\n",
       "      <td>5573</td>\n",
       "      <td>1.215324</td>\n",
       "      <td>54</td>\n",
       "    </tr>\n",
       "  </tbody>\n",
       "</table>\n",
       "</div>"
      ],
      "text/plain": [
       "     client_id         CA   freq  avg_basket  age\n",
       "677     c_1609  324033.35  10997    2.317723   43\n",
       "4388    c_4958  289760.34   3851    1.349000   24\n",
       "6337    c_6714  153658.86   2620    3.506489   55\n",
       "2724    c_3454  113667.90   5573    1.215324   54"
      ]
     },
     "execution_count": 65,
     "metadata": {},
     "output_type": "execute_result"
    }
   ],
   "source": [
    "# Création du DataFrame cumul_clients\n",
    "cumul_clients = custom_prod.groupby('client_id').agg(\n",
    "    CA=('price', 'sum'),\n",
    "    freq=('session_id', 'nunique'),\n",
    "    avg_basket=('session_id', lambda x: x.size / x.nunique() if x.nunique() != 0 else 0),\n",
    "    age=('age', 'max')\n",
    ").reset_index()\n",
    "\n",
    "# Affichage des 4 clients libraires hors normes\n",
    "top_clients = cumul_clients.sort_values(by='CA', ascending=False).head(4)\n",
    "top_clients"
   ]
  },
  {
   "cell_type": "markdown",
   "id": "1aca92f0-fee5-4848-9fa1-e7ab0936bb29",
   "metadata": {},
   "source": [
    "Les 4 clients outliers (libraires) précédemment repérés ont une incidence très forte et relève d'un statut très particulier. Ils sont à dissocier de l'analyse des relations entre les variables étudiées."
   ]
  },
  {
   "cell_type": "code",
   "execution_count": 66,
   "id": "13c62093-55d8-4da5-8fee-d63f78105609",
   "metadata": {
    "tags": []
   },
   "outputs": [
    {
     "data": {
      "text/html": [
       "<div>\n",
       "<style scoped>\n",
       "    .dataframe tbody tr th:only-of-type {\n",
       "        vertical-align: middle;\n",
       "    }\n",
       "\n",
       "    .dataframe tbody tr th {\n",
       "        vertical-align: top;\n",
       "    }\n",
       "\n",
       "    .dataframe thead th {\n",
       "        text-align: right;\n",
       "    }\n",
       "</style>\n",
       "<table border=\"1\" class=\"dataframe\">\n",
       "  <thead>\n",
       "    <tr style=\"text-align: right;\">\n",
       "      <th></th>\n",
       "      <th>CA</th>\n",
       "      <th>freq</th>\n",
       "      <th>avg_basket</th>\n",
       "      <th>age</th>\n",
       "    </tr>\n",
       "  </thead>\n",
       "  <tbody>\n",
       "    <tr>\n",
       "      <th>count</th>\n",
       "      <td>8596.000000</td>\n",
       "      <td>8596.000000</td>\n",
       "      <td>8596.000000</td>\n",
       "      <td>8596.000000</td>\n",
       "    </tr>\n",
       "    <tr>\n",
       "      <th>mean</th>\n",
       "      <td>1276.735228</td>\n",
       "      <td>37.142159</td>\n",
       "      <td>1.979770</td>\n",
       "      <td>44.739646</td>\n",
       "    </tr>\n",
       "    <tr>\n",
       "      <th>std</th>\n",
       "      <td>954.412396</td>\n",
       "      <td>30.889449</td>\n",
       "      <td>0.665370</td>\n",
       "      <td>16.910542</td>\n",
       "    </tr>\n",
       "    <tr>\n",
       "      <th>min</th>\n",
       "      <td>6.310000</td>\n",
       "      <td>1.000000</td>\n",
       "      <td>1.000000</td>\n",
       "      <td>19.000000</td>\n",
       "    </tr>\n",
       "    <tr>\n",
       "      <th>25%</th>\n",
       "      <td>547.630000</td>\n",
       "      <td>15.000000</td>\n",
       "      <td>1.409091</td>\n",
       "      <td>31.000000</td>\n",
       "    </tr>\n",
       "    <tr>\n",
       "      <th>50%</th>\n",
       "      <td>1026.930000</td>\n",
       "      <td>26.000000</td>\n",
       "      <td>1.958333</td>\n",
       "      <td>44.000000</td>\n",
       "    </tr>\n",
       "    <tr>\n",
       "      <th>75%</th>\n",
       "      <td>1779.075000</td>\n",
       "      <td>50.000000</td>\n",
       "      <td>2.421053</td>\n",
       "      <td>57.000000</td>\n",
       "    </tr>\n",
       "    <tr>\n",
       "      <th>max</th>\n",
       "      <td>5276.870000</td>\n",
       "      <td>165.000000</td>\n",
       "      <td>8.200000</td>\n",
       "      <td>94.000000</td>\n",
       "    </tr>\n",
       "  </tbody>\n",
       "</table>\n",
       "</div>"
      ],
      "text/plain": [
       "                CA         freq   avg_basket          age\n",
       "count  8596.000000  8596.000000  8596.000000  8596.000000\n",
       "mean   1276.735228    37.142159     1.979770    44.739646\n",
       "std     954.412396    30.889449     0.665370    16.910542\n",
       "min       6.310000     1.000000     1.000000    19.000000\n",
       "25%     547.630000    15.000000     1.409091    31.000000\n",
       "50%    1026.930000    26.000000     1.958333    44.000000\n",
       "75%    1779.075000    50.000000     2.421053    57.000000\n",
       "max    5276.870000   165.000000     8.200000    94.000000"
      ]
     },
     "execution_count": 66,
     "metadata": {},
     "output_type": "execute_result"
    }
   ],
   "source": [
    "# Suppression des outliers repérés\n",
    "cumul_clients_wo_outliers = cumul_clients[cumul_clients['CA'] < 100000]\n",
    "\n",
    "# Affichage des valeurs synthétiques sur les clients hors libraires / CA\n",
    "summary_statistics = cumul_clients_wo_outliers.describe()\n",
    "summary_statistics"
   ]
  },
  {
   "cell_type": "markdown",
   "id": "98986f14-9472-48b9-82d7-1983ac95ca12",
   "metadata": {},
   "source": [
    "**Matrice de corrélation entre les variables examinées**"
   ]
  },
  {
   "cell_type": "code",
   "execution_count": 67,
   "id": "b68d17a0-a4ee-49a6-a5b0-0c38a2503f22",
   "metadata": {
    "tags": []
   },
   "outputs": [
    {
     "data": {
      "image/png": "[encoded data removed]",
      "text/plain": [
       "<Figure size 1200x800 with 4 Axes>"
      ]
     },
     "metadata": {},
     "output_type": "display_data"
    }
   ],
   "source": [
    "# Définir la disposition en sous-graphes\n",
    "plt.figure(figsize=(12, 8))\n",
    "plt.subplots_adjust(hspace=0.5, wspace=0.5)\n",
    "\n",
    "# Histogramme pour l'âge\n",
    "plt.subplot(2, 2, 1)\n",
    "plt.hist(cumul_clients_wo_outliers['age'], color=\"darkgreen\", bins=20)\n",
    "plt.title(\"Ages\")\n",
    "plt.ylabel(\"Nombres\")\n",
    "\n",
    "# Histogramme pour le CA\n",
    "plt.subplot(2, 2, 2)\n",
    "plt.hist(cumul_clients_wo_outliers['CA'], color=\"darkblue\", bins=20)\n",
    "plt.title(\"CA\")\n",
    "plt.ylabel(\"Nombres\")\n",
    "\n",
    "# Histogramme pour la fréquence\n",
    "plt.subplot(2, 2, 3)\n",
    "plt.hist(cumul_clients_wo_outliers['freq'], color=\"darkred\", bins=20)\n",
    "plt.title(\"Fréquences\")\n",
    "plt.ylabel(\"Nombres\")\n",
    "\n",
    "# Histogramme pour les paniers moyens\n",
    "plt.subplot(2, 2, 4)\n",
    "plt.hist(cumul_clients_wo_outliers['avg_basket'], color=\"darkgrey\", bins=20, range=(1, 8))\n",
    "plt.title(\"Paniers moyens\")\n",
    "plt.ylabel(\"Nombres\")\n",
    "plt.xlim(1, 8)\n",
    "\n",
    "\n",
    "# Afficher les graphiques\n",
    "plt.show()"
   ]
  },
  {
   "cell_type": "code",
   "execution_count": 68,
   "id": "af8d32ce-9ad6-4471-a9ee-92dd46211149",
   "metadata": {
    "tags": []
   },
   "outputs": [
    {
     "data": {
      "image/png": "[encoded data removed]",
      "text/plain": [
       "<Figure size 1000x800 with 2 Axes>"
      ]
     },
     "metadata": {},
     "output_type": "display_data"
    }
   ],
   "source": [
    "import seaborn as sns\n",
    "\n",
    "# Sélectionner uniquement les colonnes numériques pour le calcul de la corrélation\n",
    "numeric_columns = cumul_clients_wo_outliers.select_dtypes(include=['float64', 'int64']).columns\n",
    "correlation_matrix = cumul_clients_wo_outliers[numeric_columns].corr(method='spearman')\n",
    "\n",
    "# Tracé de la matrice de corrélation\n",
    "plt.figure(figsize=(10, 8))\n",
    "sns.heatmap(correlation_matrix, annot=True, cmap='coolwarm', fmt=\".2f\", linewidths=.5)\n",
    "plt.title('Matrice de corrélation de Spearman')\n",
    "plt.show()"
   ]
  },
  {
   "cell_type": "markdown",
   "id": "61916545-5da7-4c4c-b6c9-29f22ae10196",
   "metadata": {},
   "source": [
    "Les coefficients de corrélation en lien avec l'âge sont tous significatifs, certains corrélés négativement à l'âge, d'autres positivement.\n",
    "\n",
    "Les régressions linéaires sont-elles un bon modèle de prédiction ?"
   ]
  },
  {
   "cell_type": "code",
   "execution_count": 69,
   "id": "4cccd180-20f3-41b9-8f4a-7a0142caac93",
   "metadata": {},
   "outputs": [
    {
     "data": {
      "text/plain": [
       "PearsonRResult(statistic=-0.18832959294094226, pvalue=1.8496268413420118e-69)"
      ]
     },
     "execution_count": 69,
     "metadata": {},
     "output_type": "execute_result"
    }
   ],
   "source": [
    "import scipy.stats as stats\n",
    "stats.pearsonr(cumul_clients_wo_outliers['age'],cumul_clients_wo_outliers['CA'])"
   ]
  },
  {
   "cell_type": "markdown",
   "id": "827d95fb-1f0d-47b1-8125-562c83022d69",
   "metadata": {},
   "source": [
    "**Régressions linéaires portant sur les variables numériques**"
   ]
  },
  {
   "cell_type": "markdown",
   "id": "d8414f15-29d5-47ed-95bc-f847474f893b",
   "metadata": {},
   "source": [
    "**Sur l'âge et les données calculées**"
   ]
  },
  {
   "cell_type": "code",
   "execution_count": 70,
   "id": "4c38fdf7-36df-4bd6-8fe7-e96ef456cbda",
   "metadata": {
    "tags": []
   },
   "outputs": [
    {
     "data": {
      "text/html": [
       "<table class=\"simpletable\">\n",
       "<caption>OLS Regression Results</caption>\n",
       "<tr>\n",
       "  <th>Dep. Variable:</th>           <td>CA</td>        <th>  R-squared:         </th> <td>   0.035</td> \n",
       "</tr>\n",
       "<tr>\n",
       "  <th>Model:</th>                   <td>OLS</td>       <th>  Adj. R-squared:    </th> <td>   0.035</td> \n",
       "</tr>\n",
       "<tr>\n",
       "  <th>Method:</th>             <td>Least Squares</td>  <th>  F-statistic:       </th> <td>   316.0</td> \n",
       "</tr>\n",
       "<tr>\n",
       "  <th>Date:</th>             <td>Tue, 26 Dec 2023</td> <th>  Prob (F-statistic):</th> <td>1.85e-69</td> \n",
       "</tr>\n",
       "<tr>\n",
       "  <th>Time:</th>                 <td>08:55:02</td>     <th>  Log-Likelihood:    </th> <td> -71019.</td> \n",
       "</tr>\n",
       "<tr>\n",
       "  <th>No. Observations:</th>      <td>  8596</td>      <th>  AIC:               </th> <td>1.420e+05</td>\n",
       "</tr>\n",
       "<tr>\n",
       "  <th>Df Residuals:</th>          <td>  8594</td>      <th>  BIC:               </th> <td>1.421e+05</td>\n",
       "</tr>\n",
       "<tr>\n",
       "  <th>Df Model:</th>              <td>     1</td>      <th>                     </th>     <td> </td>    \n",
       "</tr>\n",
       "<tr>\n",
       "  <th>Covariance Type:</th>      <td>nonrobust</td>    <th>                     </th>     <td> </td>    \n",
       "</tr>\n",
       "</table>\n",
       "<table class=\"simpletable\">\n",
       "<tr>\n",
       "    <td></td>       <th>coef</th>     <th>std err</th>      <th>t</th>      <th>P>|t|</th>  <th>[0.025</th>    <th>0.975]</th>  \n",
       "</tr>\n",
       "<tr>\n",
       "  <th>const</th> <td> 1752.2781</td> <td>   28.597</td> <td>   61.274</td> <td> 0.000</td> <td> 1696.220</td> <td> 1808.336</td>\n",
       "</tr>\n",
       "<tr>\n",
       "  <th>age</th>   <td>  -10.6291</td> <td>    0.598</td> <td>  -17.777</td> <td> 0.000</td> <td>  -11.801</td> <td>   -9.457</td>\n",
       "</tr>\n",
       "</table>\n",
       "<table class=\"simpletable\">\n",
       "<tr>\n",
       "  <th>Omnibus:</th>       <td>1371.423</td> <th>  Durbin-Watson:     </th> <td>   1.977</td>\n",
       "</tr>\n",
       "<tr>\n",
       "  <th>Prob(Omnibus):</th>  <td> 0.000</td>  <th>  Jarque-Bera (JB):  </th> <td>2168.997</td>\n",
       "</tr>\n",
       "<tr>\n",
       "  <th>Skew:</th>           <td> 1.111</td>  <th>  Prob(JB):          </th> <td>    0.00</td>\n",
       "</tr>\n",
       "<tr>\n",
       "  <th>Kurtosis:</th>       <td> 4.057</td>  <th>  Cond. No.          </th> <td>    135.</td>\n",
       "</tr>\n",
       "</table><br/><br/>Notes:<br/>[1] Standard Errors assume that the covariance matrix of the errors is correctly specified."
      ],
      "text/latex": [
       "\\begin{center}\n",
       "\\begin{tabular}{lclc}\n",
       "\\toprule\n",
       "\\textbf{Dep. Variable:}    &        CA        & \\textbf{  R-squared:         } &     0.035   \\\\\n",
       "\\textbf{Model:}            &       OLS        & \\textbf{  Adj. R-squared:    } &     0.035   \\\\\n",
       "\\textbf{Method:}           &  Least Squares   & \\textbf{  F-statistic:       } &     316.0   \\\\\n",
       "\\textbf{Date:}             & Tue, 26 Dec 2023 & \\textbf{  Prob (F-statistic):} &  1.85e-69   \\\\\n",
       "\\textbf{Time:}             &     08:55:02     & \\textbf{  Log-Likelihood:    } &   -71019.   \\\\\n",
       "\\textbf{No. Observations:} &        8596      & \\textbf{  AIC:               } & 1.420e+05   \\\\\n",
       "\\textbf{Df Residuals:}     &        8594      & \\textbf{  BIC:               } & 1.421e+05   \\\\\n",
       "\\textbf{Df Model:}         &           1      & \\textbf{                     } &             \\\\\n",
       "\\textbf{Covariance Type:}  &    nonrobust     & \\textbf{                     } &             \\\\\n",
       "\\bottomrule\n",
       "\\end{tabular}\n",
       "\\begin{tabular}{lcccccc}\n",
       "               & \\textbf{coef} & \\textbf{std err} & \\textbf{t} & \\textbf{P$> |$t$|$} & \\textbf{[0.025} & \\textbf{0.975]}  \\\\\n",
       "\\midrule\n",
       "\\textbf{const} &    1752.2781  &       28.597     &    61.274  &         0.000        &     1696.220    &     1808.336     \\\\\n",
       "\\textbf{age}   &     -10.6291  &        0.598     &   -17.777  &         0.000        &      -11.801    &       -9.457     \\\\\n",
       "\\bottomrule\n",
       "\\end{tabular}\n",
       "\\begin{tabular}{lclc}\n",
       "\\textbf{Omnibus:}       & 1371.423 & \\textbf{  Durbin-Watson:     } &    1.977  \\\\\n",
       "\\textbf{Prob(Omnibus):} &   0.000  & \\textbf{  Jarque-Bera (JB):  } & 2168.997  \\\\\n",
       "\\textbf{Skew:}          &   1.111  & \\textbf{  Prob(JB):          } &     0.00  \\\\\n",
       "\\textbf{Kurtosis:}      &   4.057  & \\textbf{  Cond. No.          } &     135.  \\\\\n",
       "\\bottomrule\n",
       "\\end{tabular}\n",
       "%\\caption{OLS Regression Results}\n",
       "\\end{center}\n",
       "\n",
       "Notes: \\newline\n",
       " [1] Standard Errors assume that the covariance matrix of the errors is correctly specified."
      ],
      "text/plain": [
       "<class 'statsmodels.iolib.summary.Summary'>\n",
       "\"\"\"\n",
       "                            OLS Regression Results                            \n",
       "==============================================================================\n",
       "Dep. Variable:                     CA   R-squared:                       0.035\n",
       "Model:                            OLS   Adj. R-squared:                  0.035\n",
       "Method:                 Least Squares   F-statistic:                     316.0\n",
       "Date:                Tue, 26 Dec 2023   Prob (F-statistic):           1.85e-69\n",
       "Time:                        08:55:02   Log-Likelihood:                -71019.\n",
       "No. Observations:                8596   AIC:                         1.420e+05\n",
       "Df Residuals:                    8594   BIC:                         1.421e+05\n",
       "Df Model:                           1                                         \n",
       "Covariance Type:            nonrobust                                         \n",
       "==============================================================================\n",
       "                 coef    std err          t      P>|t|      [0.025      0.975]\n",
       "------------------------------------------------------------------------------\n",
       "const       1752.2781     28.597     61.274      0.000    1696.220    1808.336\n",
       "age          -10.6291      0.598    -17.777      0.000     -11.801      -9.457\n",
       "==============================================================================\n",
       "Omnibus:                     1371.423   Durbin-Watson:                   1.977\n",
       "Prob(Omnibus):                  0.000   Jarque-Bera (JB):             2168.997\n",
       "Skew:                           1.111   Prob(JB):                         0.00\n",
       "Kurtosis:                       4.057   Cond. No.                         135.\n",
       "==============================================================================\n",
       "\n",
       "Notes:\n",
       "[1] Standard Errors assume that the covariance matrix of the errors is correctly specified.\n",
       "\"\"\""
      ]
     },
     "execution_count": 70,
     "metadata": {},
     "output_type": "execute_result"
    }
   ],
   "source": [
    "import statsmodels.api as sm\n",
    "\n",
    "# Régression linéaire\n",
    "X = cumul_clients_wo_outliers[['age']]\n",
    "y = cumul_clients_wo_outliers['CA']\n",
    "X = sm.add_constant(X)  # Ajouter une colonne constante pour l'intercept\n",
    "\n",
    "model = sm.OLS(y, X).fit()\n",
    "\n",
    "# Affichage du résumé\n",
    "model.summary()"
   ]
  },
  {
   "cell_type": "markdown",
   "id": "24f58895-28cf-452d-b98f-72257a60fffe",
   "metadata": {},
   "source": [
    "Au risque de 5%, l'hypothèse nulle est rejetée. Les variables sont corrélées, mais le coefficient de détermination R2 est très faible, le modèle linéaire représente imparfaitement le rapport entre les variables."
   ]
  },
  {
   "cell_type": "markdown",
   "id": "cf7c1bb7-9595-47f6-89b0-c33557b7b73e",
   "metadata": {},
   "source": [
    "**Vérification de la normalité des résidus**"
   ]
  },
  {
   "cell_type": "code",
   "execution_count": 71,
   "id": "b6c7a7d4-1858-4d91-9c2d-52a07ea87de0",
   "metadata": {
    "tags": []
   },
   "outputs": [
    {
     "data": {
      "image/png": "[encoded data removed]",
      "text/plain": [
       "<Figure size 800x600 with 1 Axes>"
      ]
     },
     "metadata": {},
     "output_type": "display_data"
    }
   ],
   "source": [
    "import seaborn as sns\n",
    "\n",
    "# Calcul des résidus\n",
    "residuals = cumul_clients_wo_outliers['CA'] - model.predict(sm.add_constant(cumul_clients_wo_outliers['age']))\n",
    "\n",
    "# Tracé de l'histogramme des résidus\n",
    "plt.figure(figsize=(8, 6))\n",
    "sns.histplot(residuals, kde=True, color=\"royalblue\")\n",
    "plt.title(\"Histogramme de répartition des résidus\")\n",
    "plt.xlabel(\"Résidus\")\n",
    "plt.ylabel(\"\")\n",
    "plt.show()"
   ]
  },
  {
   "cell_type": "markdown",
   "id": "36285ac4-fe25-4cc9-846d-05239274b565",
   "metadata": {},
   "source": [
    "On se rapproche très vaguement de la forme classique : centrée et symétrique."
   ]
  },
  {
   "cell_type": "markdown",
   "id": "ad6e9f4f-cbb2-4689-ae27-4d070460eed9",
   "metadata": {},
   "source": [
    "**Test de Kolmogorov-Smirnov**"
   ]
  },
  {
   "cell_type": "code",
   "execution_count": 72,
   "id": "6f24936f-0cc7-4cac-9a84-890a191e9ffa",
   "metadata": {
    "tags": []
   },
   "outputs": [
    {
     "name": "stdout",
     "output_type": "stream",
     "text": [
      "Statistique de test de Kolmogorov-Smirnov : 0.5952293805302471\n",
      "p-valeur : 0.0\n"
     ]
    }
   ],
   "source": [
    "from scipy.stats import kstest, norm\n",
    "\n",
    "# Test de Kolmogorov-Smirnov\n",
    "ks_statistic, ks_p_value = kstest(residuals, 'norm')\n",
    "\n",
    "# Affichage des résultats\n",
    "print(f\"Statistique de test de Kolmogorov-Smirnov : {ks_statistic}\")\n",
    "print(f\"p-valeur : {ks_p_value}\")"
   ]
  },
  {
   "cell_type": "markdown",
   "id": "0024d277-5bf8-47a6-a1d8-673b0cacbd5a",
   "metadata": {},
   "source": [
    "*Le test de normalité rejette l'hypothèse nulle : la distribution des résidus ne suit pas une loi normale.*"
   ]
  },
  {
   "cell_type": "markdown",
   "id": "53a9f965-9286-44af-b020-04ba6700d05d",
   "metadata": {},
   "source": [
    "**Vérification de l'homoscédasticité (variance constante des résidus)**"
   ]
  },
  {
   "cell_type": "code",
   "execution_count": 73,
   "id": "601c77a7-2839-4fa3-a10f-d64acfc6fefb",
   "metadata": {
    "tags": []
   },
   "outputs": [
    {
     "data": {
      "image/png": "[encoded data removed]",
      "text/plain": [
       "<Figure size 800x600 with 1 Axes>"
      ]
     },
     "metadata": {},
     "output_type": "display_data"
    }
   ],
   "source": [
    "# Tracé du graphique de dispersion\n",
    "plt.figure(figsize=(8, 6))\n",
    "plt.scatter(model.predict(sm.add_constant(cumul_clients_wo_outliers['age'])), residuals, color=\"darkgreen\")\n",
    "plt.title(\"Répartition des résidus selon le CA\")\n",
    "plt.xlabel(\"Valeurs prédites\")\n",
    "plt.ylabel(\"Résidus\")\n",
    "plt.show()"
   ]
  },
  {
   "cell_type": "markdown",
   "id": "49d60cb4-c984-476d-b34d-9e12d189aefe",
   "metadata": {},
   "source": [
    "La répartition des résidus est inégale, ce que confirme le **Test de Breusch-Pagan**"
   ]
  },
  {
   "cell_type": "code",
   "execution_count": 74,
   "id": "84648ffa-4c27-435d-8b56-81bb10f2cb4d",
   "metadata": {
    "tags": []
   },
   "outputs": [
    {
     "name": "stdout",
     "output_type": "stream",
     "text": [
      "Statistique de test de Breusch-Pagan : 142.6244246080587\n",
      "p-valeur : 7.101488804581164e-33\n"
     ]
    }
   ],
   "source": [
    "from statsmodels.compat import lzip\n",
    "import statsmodels.stats.api as sms\n",
    "\n",
    "# Ajout d'une colonne constante à l'exogène\n",
    "exog_with_constant = sm.add_constant(cumul_clients_wo_outliers[['age']])\n",
    "\n",
    "# Test de Breusch-Pagan\n",
    "bp_test_statistic, bp_p_value, _, _ = sms.het_breuschpagan(residuals, exog_het=exog_with_constant)\n",
    "print(f\"Statistique de test de Breusch-Pagan : {bp_test_statistic}\")\n",
    "print(f\"p-valeur : {bp_p_value}\")"
   ]
  },
  {
   "cell_type": "markdown",
   "id": "2f4ae0fb-e522-4721-88c2-8dc77cc645fe",
   "metadata": {},
   "source": [
    "Au risque de 5% nous rejetons l'hypothèse nulle : il y a hétéroscédasticité. Pas de normalité de distribution et hétéroscedasticité des résidus, le modèle linéaire étudié est mal assuré."
   ]
  },
  {
   "cell_type": "markdown",
   "id": "70f73358-4ec7-486f-9104-bd466916909c",
   "metadata": {},
   "source": [
    "**Age et moyenne du panier ou âge et fréquence**"
   ]
  },
  {
   "cell_type": "markdown",
   "id": "00816f52-a294-44ce-9453-16ba6c8ca5f9",
   "metadata": {},
   "source": [
    "L'approche d'une régression linéaire pour les deux autres variables aboutissent aux mêmes conclusions : pentes et coefficients de détermination R2 très faibles et non vérification des conditions du modèle. L'approche par la régression linéaire n'offre pas d'enseignement complémentaire aux corrélations déjà relevées."
   ]
  },
  {
   "cell_type": "markdown",
   "id": "48ce27f6-7ddf-42a4-a2d9-d4f7e843b723",
   "metadata": {},
   "source": [
    "**Relations entre les âges et les catégories**"
   ]
  },
  {
   "cell_type": "code",
   "execution_count": 75,
   "id": "a70e4d90-3aa2-46c1-a48e-ece46822bd2c",
   "metadata": {},
   "outputs": [
    {
     "data": {
      "image/png": "[encoded data removed]",
      "text/plain": [
       "<Figure size 1000x600 with 1 Axes>"
      ]
     },
     "metadata": {},
     "output_type": "display_data"
    }
   ],
   "source": [
    "# Tracer le graphique avec seaborn\n",
    "plt.figure(figsize=(10, 6))\n",
    "sns.violinplot(x='categ', y='age', data=custom_prod, inner='quartile', palette='Set1')\n",
    "sns.boxplot(x='categ', y='age', data=custom_prod, width=0.1, showfliers=False)\n",
    "\n",
    "# Ajouter un titre au graphique\n",
    "plt.title(\"Répartition des âges selon les catégories de livres\")\n",
    "plt.xlabel(\"Catégorie\")\n",
    "\n",
    "# Afficher le graphique\n",
    "plt.show()"
   ]
  },
  {
   "cell_type": "markdown",
   "id": "81855739-7893-44ee-98e6-b8c84c5a7b7a",
   "metadata": {},
   "source": [
    "Il existe une tendance forte des plus jeunes sur la catégorie 2. On constate beaucoup de valeurs extrêmes et d'amplitude pour chacune des catégories. \n",
    "Les conditions sont-elles réunies pour réaliser une analyse des variances ?"
   ]
  },
  {
   "cell_type": "markdown",
   "id": "114e50b8-f3ad-4039-abef-0590284b7778",
   "metadata": {},
   "source": [
    "*Examen des distributions des catégories en fonction de l'âge*"
   ]
  },
  {
   "cell_type": "code",
   "execution_count": 76,
   "id": "25b3d99a-7ec5-428e-9961-8a552ed3cb46",
   "metadata": {
    "tags": []
   },
   "outputs": [
    {
     "data": {
      "image/png": "[encoded data removed]",
      "text/plain": [
       "<Figure size 1200x600 with 3 Axes>"
      ]
     },
     "metadata": {},
     "output_type": "display_data"
    }
   ],
   "source": [
    "# Tracer les histogrammes avec seaborn\n",
    "plt.figure(figsize=(12, 6))\n",
    "\n",
    "# Catégorie 0\n",
    "plt.subplot(1, 3, 1)\n",
    "sns.histplot(data=custom_prod[custom_prod['categ'] == 0.0], x='age', color='#EE4000', bins=30)\n",
    "plt.title('Catégorie 0')\n",
    "\n",
    "# Catégorie 1\n",
    "plt.subplot(1, 3, 2)\n",
    "sns.histplot(data=custom_prod[custom_prod['categ'] == 1.0], x='age', color='#3CB371', bins=30)\n",
    "plt.title('Catégorie 1')\n",
    "\n",
    "# Catégorie 2\n",
    "plt.subplot(1, 3, 3)\n",
    "sns.histplot(data=custom_prod[custom_prod['categ'] == 2.0], x='age', color='#1C86EE', bins=30)\n",
    "plt.title('Catégorie 2')\n",
    "\n",
    "# Ajuster l'espacement entre les sous-graphiques\n",
    "plt.tight_layout()\n",
    "\n",
    "# Afficher les histogrammes\n",
    "plt.show()"
   ]
  },
  {
   "cell_type": "code",
   "execution_count": 77,
   "id": "c0004085-2ef9-41ba-925e-eab103c6aa24",
   "metadata": {},
   "outputs": [
    {
     "data": {
      "text/plain": [
       "<Axes: xlabel='age', ylabel='Density'>"
      ]
     },
     "execution_count": 77,
     "metadata": {},
     "output_type": "execute_result"
    },
    {
     "data": {
      "image/png": "[encoded data removed]",
      "text/plain": [
       "<Figure size 640x480 with 1 Axes>"
      ]
     },
     "metadata": {},
     "output_type": "display_data"
    }
   ],
   "source": [
    "sns.kdeplot(data=custom_prod, x=\"age\", hue=\"categ\", palette=\"bright\")"
   ]
  },
  {
   "cell_type": "markdown",
   "id": "0a8f3c26-1d8d-45b1-ac02-b8f2ac78b368",
   "metadata": {},
   "source": [
    "La distribution de la catégorie 2 n'est pas gaussienne. La distribution de la catégorie 1 est celle qui se rapproche le plus d'une loi normale. Test de l'homogénéité de la variance entre les groupes."
   ]
  },
  {
   "cell_type": "code",
   "execution_count": 78,
   "id": "056ed9e4-2679-4c6f-82d8-55b3842b8da4",
   "metadata": {
    "tags": []
   },
   "outputs": [
    {
     "name": "stdout",
     "output_type": "stream",
     "text": [
      "Statistique de test de Levene : 26091.730839883516\n",
      "p-valeur : 0.0\n"
     ]
    }
   ],
   "source": [
    "from scipy.stats import levene\n",
    "\n",
    "# Effectuer le test de Levene, \n",
    "levene_test_statistic, levene_p_value = levene(custom_prod[custom_prod['categ'] == 0.0]['age'], custom_prod[custom_prod['categ'] == 1.0]['age'], custom_prod[custom_prod['categ'] == 2.0]['age'])\n",
    "\n",
    "# Afficher les résultats\n",
    "print(f\"Statistique de test de Levene : {levene_test_statistic}\")\n",
    "print(f\"p-valeur : {levene_p_value}\")"
   ]
  },
  {
   "cell_type": "markdown",
   "id": "5e655c0d-bd85-420d-8370-eb0813c61266",
   "metadata": {},
   "source": [
    "Pas d'homogénéité des variances"
   ]
  },
  {
   "cell_type": "markdown",
   "id": "928b8f82-f4d2-4eb4-ac47-7e5032a7fb0f",
   "metadata": {},
   "source": [
    "*Les distributions des trois catégories sont-elles gaussiennes ?*"
   ]
  },
  {
   "cell_type": "code",
   "execution_count": 79,
   "id": "ac77195e-ae6f-4fb0-9b74-602cf4d01c4b",
   "metadata": {},
   "outputs": [
    {
     "name": "stdout",
     "output_type": "stream",
     "text": [
      "Statistique de test de Kolmogorov-Smirnov : 1.0\n",
      "p-valeur : 0.0\n"
     ]
    }
   ],
   "source": [
    "# Test de Kolmogorov-Smirnov\n",
    "ks_statistic, ks_p_value = kstest(custom_prod[custom_prod['categ'] == 0.0]['age'], 'norm')\n",
    "\n",
    "# Affichage des résultats\n",
    "print(f\"Statistique de test de Kolmogorov-Smirnov : {ks_statistic}\")\n",
    "print(f\"p-valeur : {ks_p_value}\")"
   ]
  },
  {
   "cell_type": "code",
   "execution_count": 80,
   "id": "0aa6fb9d-e5ad-4391-9ba0-6534ec8721b3",
   "metadata": {},
   "outputs": [
    {
     "name": "stdout",
     "output_type": "stream",
     "text": [
      "Statistique de test de Kolmogorov-Smirnov : 1.0\n",
      "p-valeur : 0.0\n"
     ]
    }
   ],
   "source": [
    "# Test de Kolmogorov-Smirnov\n",
    "ks_statistic, ks_p_value = kstest(custom_prod[custom_prod['categ'] == 1.0]['age'], 'norm')\n",
    "\n",
    "# Affichage des résultats\n",
    "print(f\"Statistique de test de Kolmogorov-Smirnov : {ks_statistic}\")\n",
    "print(f\"p-valeur : {ks_p_value}\")"
   ]
  },
  {
   "cell_type": "code",
   "execution_count": 81,
   "id": "4026cbcc-257a-4e57-86b4-13dbbd7663b2",
   "metadata": {},
   "outputs": [
    {
     "name": "stdout",
     "output_type": "stream",
     "text": [
      "Statistique de test de Kolmogorov-Smirnov : 1.0\n",
      "p-valeur : 0.0\n"
     ]
    }
   ],
   "source": [
    "# Test de Kolmogorov-Smirnov\n",
    "ks_statistic, ks_p_value = kstest(custom_prod[custom_prod['categ'] == 2.0]['age'], 'norm')\n",
    "\n",
    "# Affichage des résultats\n",
    "print(f\"Statistique de test de Kolmogorov-Smirnov : {ks_statistic}\")\n",
    "print(f\"p-valeur : {ks_p_value}\")"
   ]
  },
  {
   "cell_type": "markdown",
   "id": "4baa5094-fa21-42f3-b23b-074bf32fee87",
   "metadata": {},
   "source": [
    "Aucune distribution ne suit une loi normale, pas d’homogénéité des variances, les tests d'analyse paramétrique de la variance Anova ou Welch Anova ne sont pas adaptés."
   ]
  },
  {
   "cell_type": "markdown",
   "id": "62668129-6939-4e75-84ba-ead21fddbfb6",
   "metadata": {},
   "source": [
    "*Recours à un test non paramétrique : test de Kruskal-Wallis.*"
   ]
  },
  {
   "cell_type": "code",
   "execution_count": 82,
   "id": "3a0ebffe-9f23-4c2e-8b0e-4ba02ce04307",
   "metadata": {
    "tags": []
   },
   "outputs": [
    {
     "name": "stdout",
     "output_type": "stream",
     "text": [
      "Statistique de test de Kruskal-Wallis : 79350.86927924873\n",
      "p-valeur : 0.0\n"
     ]
    }
   ],
   "source": [
    "from scipy.stats import kruskal\n",
    "\n",
    "# Effectuer le test de Kruskal-Wallis\n",
    "kruskal_statistic, kruskal_p_value = kruskal(custom_prod[custom_prod['categ'] == 0.0]['age'], custom_prod[custom_prod['categ'] == 1.0]['age'], custom_prod[custom_prod['categ'] == 2.0]['age'])\n",
    "\n",
    "# Afficher les résultats\n",
    "print(f\"Statistique de test de Kruskal-Wallis : {kruskal_statistic}\")\n",
    "print(f\"p-valeur : {kruskal_p_value}\")"
   ]
  },
  {
   "cell_type": "markdown",
   "id": "92333035-69f2-4db5-891e-35c51596d266",
   "metadata": {},
   "source": [
    "Au risque de 5%, nous pouvons rejeter l'hypothèse d'indépendance des variables, elle sont corrélées."
   ]
  },
  {
   "cell_type": "markdown",
   "id": "1c431610-d060-4963-a607-d118a6c096d3",
   "metadata": {},
   "source": [
    "*Données synthétiques portant sur âges et catégories*"
   ]
  },
  {
   "cell_type": "code",
   "execution_count": 83,
   "id": "e387645b-39bc-4abe-852f-61da9c31f56e",
   "metadata": {
    "tags": []
   },
   "outputs": [
    {
     "data": {
      "text/html": [
       "<div>\n",
       "<style scoped>\n",
       "    .dataframe tbody tr th:only-of-type {\n",
       "        vertical-align: middle;\n",
       "    }\n",
       "\n",
       "    .dataframe tbody tr th {\n",
       "        vertical-align: top;\n",
       "    }\n",
       "\n",
       "    .dataframe thead th {\n",
       "        text-align: right;\n",
       "    }\n",
       "</style>\n",
       "<table border=\"1\" class=\"dataframe\">\n",
       "  <thead>\n",
       "    <tr style=\"text-align: right;\">\n",
       "      <th></th>\n",
       "      <th>categ</th>\n",
       "      <th>age_max</th>\n",
       "      <th>age_min</th>\n",
       "      <th>age_mean</th>\n",
       "      <th>age_median</th>\n",
       "      <th>age_sd</th>\n",
       "      <th>count</th>\n",
       "    </tr>\n",
       "  </thead>\n",
       "  <tbody>\n",
       "    <tr>\n",
       "      <th>0</th>\n",
       "      <td>0.0</td>\n",
       "      <td>94</td>\n",
       "      <td>19</td>\n",
       "      <td>44.897616</td>\n",
       "      <td>43.0</td>\n",
       "      <td>11.209482</td>\n",
       "      <td>415680</td>\n",
       "    </tr>\n",
       "    <tr>\n",
       "      <th>1</th>\n",
       "      <td>1.0</td>\n",
       "      <td>94</td>\n",
       "      <td>19</td>\n",
       "      <td>48.651238</td>\n",
       "      <td>48.0</td>\n",
       "      <td>15.495910</td>\n",
       "      <td>227169</td>\n",
       "    </tr>\n",
       "    <tr>\n",
       "      <th>2</th>\n",
       "      <td>2.0</td>\n",
       "      <td>94</td>\n",
       "      <td>19</td>\n",
       "      <td>26.948031</td>\n",
       "      <td>24.0</td>\n",
       "      <td>9.798143</td>\n",
       "      <td>36483</td>\n",
       "    </tr>\n",
       "  </tbody>\n",
       "</table>\n",
       "</div>"
      ],
      "text/plain": [
       "   categ  age_max  age_min   age_mean  age_median     age_sd   count\n",
       "0    0.0       94       19  44.897616        43.0  11.209482  415680\n",
       "1    1.0       94       19  48.651238        48.0  15.495910  227169\n",
       "2    2.0       94       19  26.948031        24.0   9.798143   36483"
      ]
     },
     "execution_count": 83,
     "metadata": {},
     "output_type": "execute_result"
    }
   ],
   "source": [
    "# Groupement par 'categ' et calcul des statistiques\n",
    "summary_stats = custom_prod.groupby('categ').agg(\n",
    "    age_max=pd.NamedAgg(column='age', aggfunc='max'),\n",
    "    age_min=pd.NamedAgg(column='age', aggfunc='min'),\n",
    "    age_mean=pd.NamedAgg(column='age', aggfunc='mean'),\n",
    "    age_median=pd.NamedAgg(column='age', aggfunc='median'),\n",
    "    age_sd=pd.NamedAgg(column='age', aggfunc='std'),\n",
    "    count=pd.NamedAgg(column='age', aggfunc='count')\n",
    ").reset_index()\n",
    "\n",
    "# Renommer les colonnes si nécessaire\n",
    "summary_stats = summary_stats.rename(columns={\n",
    "    'age_max': 'age_max',\n",
    "    'age_min': 'age_min',\n",
    "    'age_mean': 'age_mean',\n",
    "    'age_median': 'age_median',\n",
    "    'age_sd': 'age_sd',\n",
    "    'count': 'count'\n",
    "})\n",
    "\n",
    "# Afficher les statistiques récapitulatives\n",
    "summary_stats"
   ]
  },
  {
   "cell_type": "markdown",
   "id": "932da85a-4959-4e57-8c9d-b28a84b5942b",
   "metadata": {},
   "source": [
    "La catégorie 2 se détache nettement par son public sensiblement plus jeune. Les moyennes d'âges sont similaires entre les catégories 0 et 1. Les mêmes âges extrêmes sont présents sur les 3 catégories."
   ]
  },
  {
   "cell_type": "code",
   "execution_count": 90,
   "id": "aa08cb15-cea2-4a1f-9cee-02dead09c7ec",
   "metadata": {
    "tags": []
   },
   "outputs": [
    {
     "data": {
      "image/png": "[encoded data removed]",
      "text/plain": [
       "<Figure size 800x600 with 1 Axes>"
      ]
     },
     "metadata": {},
     "output_type": "display_data"
    }
   ],
   "source": [
    "### Filtrer les données pour CA < 100000\n",
    "filtered_data = CA_clients[CA_clients['CA'] < 100000].copy()  # Assurez-vous de créer une copie\n",
    "\n",
    "# Ajouter une colonne constante pour l'ensemble des données\n",
    "filtered_data['constant'] = 1\n",
    "\n",
    "# Tracer le graphique avec seaborn\n",
    "plt.figure(figsize=(8, 6))\n",
    "# sns.boxplot(x='constant', y='CA', data=filtered_data, width=0.1, color='grey')\n",
    "sns.violinplot(x='constant', y='CA', data=filtered_data, color='red', inner=\"box\")\n",
    "\n",
    "# Ajouter des titres et des étiquettes d'axe\n",
    "plt.title(\"Répartition du CA par clients, CA < 100k€\")\n",
    "plt.xlabel('')\n",
    "plt.ylabel('CA')\n",
    "\n",
    "# Afficher le graphique\n",
    "plt.show()"
   ]
  },
  {
   "cell_type": "markdown",
   "id": "68e7e6da-9d52-453f-9ebb-146784089b5e",
   "metadata": {},
   "source": [
    "Une médiane aux alentours de 1200€ de CA, une évidente majorité de petits clients."
   ]
  },
  {
   "cell_type": "markdown",
   "id": "62a01d8e-f509-4b23-8dfe-6cd9976d9fed",
   "metadata": {},
   "source": [
    "*Données synthétiques portant sur âges et sexes*"
   ]
  },
  {
   "cell_type": "code",
   "execution_count": 85,
   "id": "bdba98a1-1df0-4387-a9b3-2e634ab745c5",
   "metadata": {
    "tags": []
   },
   "outputs": [
    {
     "data": {
      "text/html": [
       "<div>\n",
       "<style scoped>\n",
       "    .dataframe tbody tr th:only-of-type {\n",
       "        vertical-align: middle;\n",
       "    }\n",
       "\n",
       "    .dataframe tbody tr th {\n",
       "        vertical-align: top;\n",
       "    }\n",
       "\n",
       "    .dataframe thead th {\n",
       "        text-align: right;\n",
       "    }\n",
       "</style>\n",
       "<table border=\"1\" class=\"dataframe\">\n",
       "  <thead>\n",
       "    <tr style=\"text-align: right;\">\n",
       "      <th></th>\n",
       "      <th>sex</th>\n",
       "      <th>age_max</th>\n",
       "      <th>age_min</th>\n",
       "      <th>age_mean</th>\n",
       "      <th>age_median</th>\n",
       "      <th>age_sd</th>\n",
       "      <th>count</th>\n",
       "    </tr>\n",
       "  </thead>\n",
       "  <tbody>\n",
       "    <tr>\n",
       "      <th>0</th>\n",
       "      <td>f</td>\n",
       "      <td>94</td>\n",
       "      <td>19</td>\n",
       "      <td>45.747977</td>\n",
       "      <td>44.0</td>\n",
       "      <td>13.890003</td>\n",
       "      <td>338402</td>\n",
       "    </tr>\n",
       "    <tr>\n",
       "      <th>1</th>\n",
       "      <td>m</td>\n",
       "      <td>94</td>\n",
       "      <td>19</td>\n",
       "      <td>44.633890</td>\n",
       "      <td>43.0</td>\n",
       "      <td>13.230696</td>\n",
       "      <td>340930</td>\n",
       "    </tr>\n",
       "  </tbody>\n",
       "</table>\n",
       "</div>"
      ],
      "text/plain": [
       "  sex  age_max  age_min   age_mean  age_median     age_sd   count\n",
       "0   f       94       19  45.747977        44.0  13.890003  338402\n",
       "1   m       94       19  44.633890        43.0  13.230696  340930"
      ]
     },
     "execution_count": 85,
     "metadata": {},
     "output_type": "execute_result"
    }
   ],
   "source": [
    "# Groupement par 'sex' et calcul des statistiques\n",
    "summary_stats = custom_prod.groupby('sex').agg(\n",
    "    age_max=pd.NamedAgg(column='age', aggfunc='max'),\n",
    "    age_min=pd.NamedAgg(column='age', aggfunc='min'),\n",
    "    age_mean=pd.NamedAgg(column='age', aggfunc='mean'),\n",
    "    age_median=pd.NamedAgg(column='age', aggfunc='median'),\n",
    "    age_sd=pd.NamedAgg(column='age', aggfunc='std'),\n",
    "    count=pd.NamedAgg(column='age', aggfunc='count')\n",
    ").reset_index()\n",
    "\n",
    "# Renommer les colonnes si nécessaire\n",
    "summary_stats = summary_stats.rename(columns={\n",
    "    'age_max': 'age_max',\n",
    "    'age_min': 'age_min',\n",
    "    'age_mean': 'age_mean',\n",
    "    'age_median': 'age_median',\n",
    "    'age_sd': 'age_sd',\n",
    "    'count': 'count'\n",
    "})\n",
    "\n",
    "# Afficher les statistiques récapitulatives\n",
    "summary_stats"
   ]
  },
  {
   "cell_type": "markdown",
   "id": "73ffcd79-5673-4494-942e-0fdcd1256363",
   "metadata": {},
   "source": [
    "Hommes et femmes sont très proches sur toutes les valeurs d'âges et même en nombre."
   ]
  },
  {
   "cell_type": "markdown",
   "id": "11254372-661e-429b-b572-5a18725490f2",
   "metadata": {},
   "source": [
    "*Pyramide des âges / comparaison hommes et femmes*"
   ]
  },
  {
   "cell_type": "code",
   "execution_count": 86,
   "id": "36c1497d-0870-4a62-a52a-527f616d424d",
   "metadata": {},
   "outputs": [
    {
     "data": {
      "image/png": "[encoded data removed]",
      "text/plain": [
       "<Figure size 640x480 with 1 Axes>"
      ]
     },
     "metadata": {},
     "output_type": "display_data"
    }
   ],
   "source": [
    "females = customers[customers['sex'] == 'f']['age']\n",
    "males = customers[customers['sex'] == 'm']['age']\n",
    "\n",
    "bins = np.arange(customers['age'].min(), customers['age'].max() + 1, 1)\n",
    "\n",
    "fig, ax = plt.subplots()\n",
    "\n",
    "ax.hist(females, bins=bins, label='Femmes', alpha=0.6, color='red')\n",
    "ax.hist(males, bins=bins, label='Hommes', alpha=0.6, color='blue')\n",
    "\n",
    "ax.set_xlabel('Age')\n",
    "ax.set_ylabel('Nombre de Clients')\n",
    "ax.set_title('Pyramide des âges des clients\\nPyramid Plot par sexe')\n",
    "\n",
    "plt.legend(loc='upper right')\n",
    "plt.show()"
   ]
  },
  {
   "cell_type": "code",
   "execution_count": 87,
   "id": "7eb707ab-3c47-467c-8906-ced9160576af",
   "metadata": {},
   "outputs": [
    {
     "data": {
      "image/png": "[encoded data removed]",
      "text/plain": [
       "<Figure size 640x480 with 1 Axes>"
      ]
     },
     "metadata": {},
     "output_type": "display_data"
    }
   ],
   "source": [
    "# Convertir la colonne sex en variable catégorielle\n",
    "customers['sex'] = customers['sex'].astype('category')\n",
    "\n",
    "females = customers[customers['sex'] == 'f']['age']\n",
    "males = customers[customers['sex'] == 'm']['age']\n",
    "\n",
    "# Utiliser np.arange pour définir des intervalles plus petits\n",
    "bins = np.arange(customers['age'].min(), customers['age'].max() + 1, 1)\n",
    "\n",
    "fig, ax = plt.subplots()\n",
    "\n",
    "# Utiliser l'orientation horizontale et la couleur rose pour les femmes\n",
    "ax.hist(females, bins=bins, label='Female', alpha=0.6, color='red', orientation='horizontal')\n",
    "# Utiliser l'orientation horizontale, la couleur bleu clair et l'argument weights pour les hommes\n",
    "ax.hist(males, bins=bins, label='Male', alpha=0.6, color='blue', orientation='horizontal', weights=-np.ones(len(males)))\n",
    "\n",
    "ax.set_xlabel('Nombre de Clients')\n",
    "ax.set_ylabel('Age')\n",
    "ax.set_title('Pyramide des âges des clients\\nPyramid Plot par sexe')\n",
    "\n",
    "plt.legend(loc='upper right')\n",
    "plt.show()"
   ]
  },
  {
   "cell_type": "code",
   "execution_count": 92,
   "id": "875f4bb1-e3e3-42c1-9cc3-671cc573926d",
   "metadata": {},
   "outputs": [
    {
     "data": {
      "text/html": [
       "<div>\n",
       "<style scoped>\n",
       "    .dataframe tbody tr th:only-of-type {\n",
       "        vertical-align: middle;\n",
       "    }\n",
       "\n",
       "    .dataframe tbody tr th {\n",
       "        vertical-align: top;\n",
       "    }\n",
       "\n",
       "    .dataframe thead th {\n",
       "        text-align: right;\n",
       "    }\n",
       "</style>\n",
       "<table border=\"1\" class=\"dataframe\">\n",
       "  <thead>\n",
       "    <tr style=\"text-align: right;\">\n",
       "      <th></th>\n",
       "      <th>client_id</th>\n",
       "      <th>sex</th>\n",
       "      <th>birth</th>\n",
       "    </tr>\n",
       "    <tr>\n",
       "      <th>age</th>\n",
       "      <th></th>\n",
       "      <th></th>\n",
       "      <th></th>\n",
       "    </tr>\n",
       "  </thead>\n",
       "  <tbody>\n",
       "    <tr>\n",
       "      <th>19</th>\n",
       "      <td>440</td>\n",
       "      <td>440</td>\n",
       "      <td>440</td>\n",
       "    </tr>\n",
       "    <tr>\n",
       "      <th>20</th>\n",
       "      <td>146</td>\n",
       "      <td>146</td>\n",
       "      <td>146</td>\n",
       "    </tr>\n",
       "    <tr>\n",
       "      <th>21</th>\n",
       "      <td>146</td>\n",
       "      <td>146</td>\n",
       "      <td>146</td>\n",
       "    </tr>\n",
       "    <tr>\n",
       "      <th>22</th>\n",
       "      <td>129</td>\n",
       "      <td>129</td>\n",
       "      <td>129</td>\n",
       "    </tr>\n",
       "    <tr>\n",
       "      <th>23</th>\n",
       "      <td>136</td>\n",
       "      <td>136</td>\n",
       "      <td>136</td>\n",
       "    </tr>\n",
       "    <tr>\n",
       "      <th>...</th>\n",
       "      <td>...</td>\n",
       "      <td>...</td>\n",
       "      <td>...</td>\n",
       "    </tr>\n",
       "    <tr>\n",
       "      <th>90</th>\n",
       "      <td>8</td>\n",
       "      <td>8</td>\n",
       "      <td>8</td>\n",
       "    </tr>\n",
       "    <tr>\n",
       "      <th>91</th>\n",
       "      <td>6</td>\n",
       "      <td>6</td>\n",
       "      <td>6</td>\n",
       "    </tr>\n",
       "    <tr>\n",
       "      <th>92</th>\n",
       "      <td>4</td>\n",
       "      <td>4</td>\n",
       "      <td>4</td>\n",
       "    </tr>\n",
       "    <tr>\n",
       "      <th>93</th>\n",
       "      <td>4</td>\n",
       "      <td>4</td>\n",
       "      <td>4</td>\n",
       "    </tr>\n",
       "    <tr>\n",
       "      <th>94</th>\n",
       "      <td>3</td>\n",
       "      <td>3</td>\n",
       "      <td>3</td>\n",
       "    </tr>\n",
       "  </tbody>\n",
       "</table>\n",
       "<p>76 rows × 3 columns</p>\n",
       "</div>"
      ],
      "text/plain": [
       "     client_id  sex  birth\n",
       "age                       \n",
       "19         440  440    440\n",
       "20         146  146    146\n",
       "21         146  146    146\n",
       "22         129  129    129\n",
       "23         136  136    136\n",
       "..         ...  ...    ...\n",
       "90           8    8      8\n",
       "91           6    6      6\n",
       "92           4    4      4\n",
       "93           4    4      4\n",
       "94           3    3      3\n",
       "\n",
       "[76 rows x 3 columns]"
      ]
     },
     "execution_count": 92,
     "metadata": {},
     "output_type": "execute_result"
    }
   ],
   "source": [
    "customers.groupby(\"age\").count()"
   ]
  },
  {
   "cell_type": "code",
   "execution_count": null,
   "id": "92125728-6aff-4b2b-9816-47d9280eeca0",
   "metadata": {},
   "outputs": [],
   "source": []
  }
 ],
 "metadata": {
  "kernelspec": {
   "display_name": "Python 3 (ipykernel)",
   "language": "python",
   "name": "python3"
  },
  "language_info": {
   "codemirror_mode": {
    "name": "ipython",
    "version": 3
   },
   "file_extension": ".py",
   "mimetype": "text/x-python",
   "name": "python",
   "nbconvert_exporter": "python",
   "pygments_lexer": "ipython3",
   "version": "3.11.5"
  }
 },
 "nbformat": 4,
 "nbformat_minor": 5
}
